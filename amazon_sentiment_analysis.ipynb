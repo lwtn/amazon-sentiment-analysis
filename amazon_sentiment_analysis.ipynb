{
  "nbformat": 4,
  "nbformat_minor": 0,
  "metadata": {
    "colab": {
      "name": "amazon_sentiment_analysis.ipynb",
      "provenance": [],
      "collapsed_sections": [],
      "authorship_tag": "ABX9TyNFUJ5nK6Ol7Iz+2kbqzrja"
    },
    "kernelspec": {
      "name": "python3",
      "display_name": "Python 3"
    },
    "language_info": {
      "name": "python"
    }
  },
  "cells": [
    {
      "cell_type": "code",
      "execution_count": 1,
      "metadata": {
        "id": "FAZILjzg_BT_"
      },
      "outputs": [],
      "source": [
        "import pandas as pd\n",
        "import numpy as np\n",
        "import matplotlib.pyplot as plt\n",
        "import nltk"
      ]
    },
    {
      "cell_type": "code",
      "source": [
        "from google.colab import drive\n",
        "\n",
        "drive.mount('/content/gdrive')"
      ],
      "metadata": {
        "colab": {
          "base_uri": "https://localhost:8080/"
        },
        "id": "MlxU7J8fFr3b",
        "outputId": "1f6f9ae1-9e8c-4380-8004-60ae0146d4ea"
      },
      "execution_count": 2,
      "outputs": [
        {
          "output_type": "stream",
          "name": "stdout",
          "text": [
            "Mounted at /content/gdrive\n"
          ]
        }
      ]
    },
    {
      "cell_type": "code",
      "source": [
        "import os\n",
        "os.chdir(\"/content/gdrive/\")\n",
        "!ls"
      ],
      "metadata": {
        "colab": {
          "base_uri": "https://localhost:8080/"
        },
        "id": "8q3LMC-3UVHl",
        "outputId": "2de8268c-27da-4d24-8e50-4658d4dcc644"
      },
      "execution_count": 3,
      "outputs": [
        {
          "output_type": "stream",
          "name": "stdout",
          "text": [
            "MyDrive\n"
          ]
        }
      ]
    },
    {
      "cell_type": "code",
      "source": [
        "df = pd.read_csv('MyDrive/Datasets/amazon/amazon.csv')\n",
        "df"
      ],
      "metadata": {
        "colab": {
          "base_uri": "https://localhost:8080/",
          "height": 1000
        },
        "id": "JbREd4IQF1tD",
        "outputId": "d09c74d0-99e9-4d8a-d0a0-055509e438a6"
      },
      "execution_count": 4,
      "outputs": [
        {
          "output_type": "stream",
          "name": "stderr",
          "text": [
            "/usr/local/lib/python3.7/dist-packages/IPython/core/interactiveshell.py:2882: DtypeWarning: Columns (1,10) have mixed types.Specify dtype option on import or set low_memory=False.\n",
            "  exec(code_obj, self.user_global_ns, self.user_ns)\n"
          ]
        },
        {
          "output_type": "execute_result",
          "data": {
            "text/plain": [
              "                         id  \\\n",
              "0      AVqkIhwDv8e3D1O-lebb   \n",
              "1      AVqkIhwDv8e3D1O-lebb   \n",
              "2      AVqkIhwDv8e3D1O-lebb   \n",
              "3      AVqkIhwDv8e3D1O-lebb   \n",
              "4      AVqkIhwDv8e3D1O-lebb   \n",
              "...                     ...   \n",
              "34655  AVpfiBlyLJeJML43-4Tp   \n",
              "34656  AVpfiBlyLJeJML43-4Tp   \n",
              "34657  AVpfiBlyLJeJML43-4Tp   \n",
              "34658  AVpfiBlyLJeJML43-4Tp   \n",
              "34659  AVpfiBlyLJeJML43-4Tp   \n",
              "\n",
              "                                                    name       asins   brand  \\\n",
              "0      All-New Fire HD 8 Tablet, 8 HD Display, Wi-Fi,...  B01AHB9CN2  Amazon   \n",
              "1      All-New Fire HD 8 Tablet, 8 HD Display, Wi-Fi,...  B01AHB9CN2  Amazon   \n",
              "2      All-New Fire HD 8 Tablet, 8 HD Display, Wi-Fi,...  B01AHB9CN2  Amazon   \n",
              "3      All-New Fire HD 8 Tablet, 8 HD Display, Wi-Fi,...  B01AHB9CN2  Amazon   \n",
              "4      All-New Fire HD 8 Tablet, 8 HD Display, Wi-Fi,...  B01AHB9CN2  Amazon   \n",
              "...                                                  ...         ...     ...   \n",
              "34655                                                NaN  B006GWO5WK  Amazon   \n",
              "34656                                                NaN  B006GWO5WK  Amazon   \n",
              "34657                                                NaN  B006GWO5WK  Amazon   \n",
              "34658                                                NaN  B006GWO5WK  Amazon   \n",
              "34659                                                NaN  B006GWO5WK  Amazon   \n",
              "\n",
              "                                              categories  \\\n",
              "0      Electronics,iPad & Tablets,All Tablets,Fire Ta...   \n",
              "1      Electronics,iPad & Tablets,All Tablets,Fire Ta...   \n",
              "2      Electronics,iPad & Tablets,All Tablets,Fire Ta...   \n",
              "3      Electronics,iPad & Tablets,All Tablets,Fire Ta...   \n",
              "4      Electronics,iPad & Tablets,All Tablets,Fire Ta...   \n",
              "...                                                  ...   \n",
              "34655  Computers/Tablets & Networking,Tablet & eBook ...   \n",
              "34656  Computers/Tablets & Networking,Tablet & eBook ...   \n",
              "34657  Computers/Tablets & Networking,Tablet & eBook ...   \n",
              "34658  Computers/Tablets & Networking,Tablet & eBook ...   \n",
              "34659  Computers/Tablets & Networking,Tablet & eBook ...   \n",
              "\n",
              "                                                    keys  \\\n",
              "0      841667104676,amazon/53004484,amazon/b01ahb9cn2...   \n",
              "1      841667104676,amazon/53004484,amazon/b01ahb9cn2...   \n",
              "2      841667104676,amazon/53004484,amazon/b01ahb9cn2...   \n",
              "3      841667104676,amazon/53004484,amazon/b01ahb9cn2...   \n",
              "4      841667104676,amazon/53004484,amazon/b01ahb9cn2...   \n",
              "...                                                  ...   \n",
              "34655  newamazonkindlefirehd9wpowerfastadaptercharger...   \n",
              "34656  newamazonkindlefirehd9wpowerfastadaptercharger...   \n",
              "34657  newamazonkindlefirehd9wpowerfastadaptercharger...   \n",
              "34658  newamazonkindlefirehd9wpowerfastadaptercharger...   \n",
              "34659  newamazonkindlefirehd9wpowerfastadaptercharger...   \n",
              "\n",
              "                       manufacturer              reviews.date  \\\n",
              "0                            Amazon  2017-01-13T00:00:00.000Z   \n",
              "1                            Amazon  2017-01-13T00:00:00.000Z   \n",
              "2                            Amazon  2017-01-13T00:00:00.000Z   \n",
              "3                            Amazon  2017-01-13T00:00:00.000Z   \n",
              "4                            Amazon  2017-01-12T00:00:00.000Z   \n",
              "...                             ...                       ...   \n",
              "34655  Amazon Digital Services, Inc      2012-09-18T00:00:00Z   \n",
              "34656  Amazon Digital Services, Inc      2012-11-21T00:00:00Z   \n",
              "34657  Amazon Digital Services, Inc      2012-10-19T00:00:00Z   \n",
              "34658  Amazon Digital Services, Inc      2012-10-31T00:00:00Z   \n",
              "34659  Amazon Digital Services, Inc      2012-12-23T00:00:00Z   \n",
              "\n",
              "          reviews.dateAdded  \\\n",
              "0      2017-07-03T23:33:15Z   \n",
              "1      2017-07-03T23:33:15Z   \n",
              "2      2017-07-03T23:33:15Z   \n",
              "3      2017-07-03T23:33:15Z   \n",
              "4      2017-07-03T23:33:15Z   \n",
              "...                     ...   \n",
              "34655                   NaN   \n",
              "34656                   NaN   \n",
              "34657                   NaN   \n",
              "34658                   NaN   \n",
              "34659                   NaN   \n",
              "\n",
              "                                        reviews.dateSeen  ...  \\\n",
              "0      2017-06-07T09:04:00.000Z,2017-04-30T00:45:00.000Z  ...   \n",
              "1      2017-06-07T09:04:00.000Z,2017-04-30T00:45:00.000Z  ...   \n",
              "2      2017-06-07T09:04:00.000Z,2017-04-30T00:45:00.000Z  ...   \n",
              "3      2017-06-07T09:04:00.000Z,2017-04-30T00:45:00.000Z  ...   \n",
              "4      2017-06-07T09:04:00.000Z,2017-04-30T00:45:00.000Z  ...   \n",
              "...                                                  ...  ...   \n",
              "34655                               2015-08-29T00:00:00Z  ...   \n",
              "34656                               2015-09-02T00:00:00Z  ...   \n",
              "34657                               2015-09-04T00:00:00Z  ...   \n",
              "34658                               2015-09-01T00:00:00Z  ...   \n",
              "34659                               2015-11-01T00:00:00Z  ...   \n",
              "\n",
              "      reviews.doRecommend reviews.id  reviews.numHelpful  reviews.rating  \\\n",
              "0                    True        NaN                 0.0             5.0   \n",
              "1                    True        NaN                 0.0             5.0   \n",
              "2                    True        NaN                 0.0             5.0   \n",
              "3                    True        NaN                 0.0             4.0   \n",
              "4                    True        NaN                 0.0             5.0   \n",
              "...                   ...        ...                 ...             ...   \n",
              "34655                 NaN        NaN                 NaN             3.0   \n",
              "34656                 NaN        NaN                 NaN             1.0   \n",
              "34657                 NaN        NaN                 NaN             1.0   \n",
              "34658                 NaN        NaN                 NaN             1.0   \n",
              "34659                 NaN        NaN                 NaN             1.0   \n",
              "\n",
              "                                      reviews.sourceURLs  \\\n",
              "0      http://reviews.bestbuy.com/3545/5620406/review...   \n",
              "1      http://reviews.bestbuy.com/3545/5620406/review...   \n",
              "2      http://reviews.bestbuy.com/3545/5620406/review...   \n",
              "3      http://reviews.bestbuy.com/3545/5620406/review...   \n",
              "4      http://reviews.bestbuy.com/3545/5620406/review...   \n",
              "...                                                  ...   \n",
              "34655  http://www.amazon.com/Amazon-PowerFast-Adapter...   \n",
              "34656  http://www.amazon.com/Amazon-PowerFast-Adapter...   \n",
              "34657  http://www.amazon.com/Amazon-PowerFast-Adapter...   \n",
              "34658  http://www.amazon.com/Amazon-PowerFast-Adapter...   \n",
              "34659  http://www.amazon.com/Amazon-PowerFast-Adapter...   \n",
              "\n",
              "                                            reviews.text  \\\n",
              "0      This product so far has not disappointed. My c...   \n",
              "1      great for beginner or experienced person. Boug...   \n",
              "2      Inexpensive tablet for him to use and learn on...   \n",
              "3      I've had my Fire HD 8 two weeks now and I love...   \n",
              "4      I bought this for my grand daughter when she c...   \n",
              "...                                                  ...   \n",
              "34655  This is not appreciably faster than any other ...   \n",
              "34656  Amazon should include this charger with the Ki...   \n",
              "34657  Love my Kindle Fire but I am really disappoint...   \n",
              "34658  I was surprised to find it did not come with a...   \n",
              "34659  to spite the fact that i have nothing but good...   \n",
              "\n",
              "                                           reviews.title reviews.userCity  \\\n",
              "0                                                 Kindle              NaN   \n",
              "1                                              very fast              NaN   \n",
              "2                Beginner tablet for our 9 year old son.              NaN   \n",
              "3                                                Good!!!              NaN   \n",
              "4                              Fantastic Tablet for kids              NaN   \n",
              "...                                                  ...              ...   \n",
              "34655  Not appreciably faster than any other 1.8A cha...              NaN   \n",
              "34656                                 Should be included              NaN   \n",
              "34657                              Disappointing Charger              NaN   \n",
              "34658                                Not worth the money              NaN   \n",
              "34659                              as with everyone else              NaN   \n",
              "\n",
              "       reviews.userProvince  reviews.username  \n",
              "0                       NaN           Adapter  \n",
              "1                       NaN            truman  \n",
              "2                       NaN             DaveZ  \n",
              "3                       NaN            Shacks  \n",
              "4                       NaN         explore42  \n",
              "...                     ...               ...  \n",
              "34655                   NaN              Kris  \n",
              "34656                   NaN  Jonathan Stewart  \n",
              "34657                   NaN          J Lawson  \n",
              "34658                   NaN    Just the Buyer  \n",
              "34659                   NaN             sandi  \n",
              "\n",
              "[34660 rows x 21 columns]"
            ],
            "text/html": [
              "\n",
              "  <div id=\"df-7f615175-51a8-43dd-8607-e439bbfe41f2\">\n",
              "    <div class=\"colab-df-container\">\n",
              "      <div>\n",
              "<style scoped>\n",
              "    .dataframe tbody tr th:only-of-type {\n",
              "        vertical-align: middle;\n",
              "    }\n",
              "\n",
              "    .dataframe tbody tr th {\n",
              "        vertical-align: top;\n",
              "    }\n",
              "\n",
              "    .dataframe thead th {\n",
              "        text-align: right;\n",
              "    }\n",
              "</style>\n",
              "<table border=\"1\" class=\"dataframe\">\n",
              "  <thead>\n",
              "    <tr style=\"text-align: right;\">\n",
              "      <th></th>\n",
              "      <th>id</th>\n",
              "      <th>name</th>\n",
              "      <th>asins</th>\n",
              "      <th>brand</th>\n",
              "      <th>categories</th>\n",
              "      <th>keys</th>\n",
              "      <th>manufacturer</th>\n",
              "      <th>reviews.date</th>\n",
              "      <th>reviews.dateAdded</th>\n",
              "      <th>reviews.dateSeen</th>\n",
              "      <th>...</th>\n",
              "      <th>reviews.doRecommend</th>\n",
              "      <th>reviews.id</th>\n",
              "      <th>reviews.numHelpful</th>\n",
              "      <th>reviews.rating</th>\n",
              "      <th>reviews.sourceURLs</th>\n",
              "      <th>reviews.text</th>\n",
              "      <th>reviews.title</th>\n",
              "      <th>reviews.userCity</th>\n",
              "      <th>reviews.userProvince</th>\n",
              "      <th>reviews.username</th>\n",
              "    </tr>\n",
              "  </thead>\n",
              "  <tbody>\n",
              "    <tr>\n",
              "      <th>0</th>\n",
              "      <td>AVqkIhwDv8e3D1O-lebb</td>\n",
              "      <td>All-New Fire HD 8 Tablet, 8 HD Display, Wi-Fi,...</td>\n",
              "      <td>B01AHB9CN2</td>\n",
              "      <td>Amazon</td>\n",
              "      <td>Electronics,iPad &amp; Tablets,All Tablets,Fire Ta...</td>\n",
              "      <td>841667104676,amazon/53004484,amazon/b01ahb9cn2...</td>\n",
              "      <td>Amazon</td>\n",
              "      <td>2017-01-13T00:00:00.000Z</td>\n",
              "      <td>2017-07-03T23:33:15Z</td>\n",
              "      <td>2017-06-07T09:04:00.000Z,2017-04-30T00:45:00.000Z</td>\n",
              "      <td>...</td>\n",
              "      <td>True</td>\n",
              "      <td>NaN</td>\n",
              "      <td>0.0</td>\n",
              "      <td>5.0</td>\n",
              "      <td>http://reviews.bestbuy.com/3545/5620406/review...</td>\n",
              "      <td>This product so far has not disappointed. My c...</td>\n",
              "      <td>Kindle</td>\n",
              "      <td>NaN</td>\n",
              "      <td>NaN</td>\n",
              "      <td>Adapter</td>\n",
              "    </tr>\n",
              "    <tr>\n",
              "      <th>1</th>\n",
              "      <td>AVqkIhwDv8e3D1O-lebb</td>\n",
              "      <td>All-New Fire HD 8 Tablet, 8 HD Display, Wi-Fi,...</td>\n",
              "      <td>B01AHB9CN2</td>\n",
              "      <td>Amazon</td>\n",
              "      <td>Electronics,iPad &amp; Tablets,All Tablets,Fire Ta...</td>\n",
              "      <td>841667104676,amazon/53004484,amazon/b01ahb9cn2...</td>\n",
              "      <td>Amazon</td>\n",
              "      <td>2017-01-13T00:00:00.000Z</td>\n",
              "      <td>2017-07-03T23:33:15Z</td>\n",
              "      <td>2017-06-07T09:04:00.000Z,2017-04-30T00:45:00.000Z</td>\n",
              "      <td>...</td>\n",
              "      <td>True</td>\n",
              "      <td>NaN</td>\n",
              "      <td>0.0</td>\n",
              "      <td>5.0</td>\n",
              "      <td>http://reviews.bestbuy.com/3545/5620406/review...</td>\n",
              "      <td>great for beginner or experienced person. Boug...</td>\n",
              "      <td>very fast</td>\n",
              "      <td>NaN</td>\n",
              "      <td>NaN</td>\n",
              "      <td>truman</td>\n",
              "    </tr>\n",
              "    <tr>\n",
              "      <th>2</th>\n",
              "      <td>AVqkIhwDv8e3D1O-lebb</td>\n",
              "      <td>All-New Fire HD 8 Tablet, 8 HD Display, Wi-Fi,...</td>\n",
              "      <td>B01AHB9CN2</td>\n",
              "      <td>Amazon</td>\n",
              "      <td>Electronics,iPad &amp; Tablets,All Tablets,Fire Ta...</td>\n",
              "      <td>841667104676,amazon/53004484,amazon/b01ahb9cn2...</td>\n",
              "      <td>Amazon</td>\n",
              "      <td>2017-01-13T00:00:00.000Z</td>\n",
              "      <td>2017-07-03T23:33:15Z</td>\n",
              "      <td>2017-06-07T09:04:00.000Z,2017-04-30T00:45:00.000Z</td>\n",
              "      <td>...</td>\n",
              "      <td>True</td>\n",
              "      <td>NaN</td>\n",
              "      <td>0.0</td>\n",
              "      <td>5.0</td>\n",
              "      <td>http://reviews.bestbuy.com/3545/5620406/review...</td>\n",
              "      <td>Inexpensive tablet for him to use and learn on...</td>\n",
              "      <td>Beginner tablet for our 9 year old son.</td>\n",
              "      <td>NaN</td>\n",
              "      <td>NaN</td>\n",
              "      <td>DaveZ</td>\n",
              "    </tr>\n",
              "    <tr>\n",
              "      <th>3</th>\n",
              "      <td>AVqkIhwDv8e3D1O-lebb</td>\n",
              "      <td>All-New Fire HD 8 Tablet, 8 HD Display, Wi-Fi,...</td>\n",
              "      <td>B01AHB9CN2</td>\n",
              "      <td>Amazon</td>\n",
              "      <td>Electronics,iPad &amp; Tablets,All Tablets,Fire Ta...</td>\n",
              "      <td>841667104676,amazon/53004484,amazon/b01ahb9cn2...</td>\n",
              "      <td>Amazon</td>\n",
              "      <td>2017-01-13T00:00:00.000Z</td>\n",
              "      <td>2017-07-03T23:33:15Z</td>\n",
              "      <td>2017-06-07T09:04:00.000Z,2017-04-30T00:45:00.000Z</td>\n",
              "      <td>...</td>\n",
              "      <td>True</td>\n",
              "      <td>NaN</td>\n",
              "      <td>0.0</td>\n",
              "      <td>4.0</td>\n",
              "      <td>http://reviews.bestbuy.com/3545/5620406/review...</td>\n",
              "      <td>I've had my Fire HD 8 two weeks now and I love...</td>\n",
              "      <td>Good!!!</td>\n",
              "      <td>NaN</td>\n",
              "      <td>NaN</td>\n",
              "      <td>Shacks</td>\n",
              "    </tr>\n",
              "    <tr>\n",
              "      <th>4</th>\n",
              "      <td>AVqkIhwDv8e3D1O-lebb</td>\n",
              "      <td>All-New Fire HD 8 Tablet, 8 HD Display, Wi-Fi,...</td>\n",
              "      <td>B01AHB9CN2</td>\n",
              "      <td>Amazon</td>\n",
              "      <td>Electronics,iPad &amp; Tablets,All Tablets,Fire Ta...</td>\n",
              "      <td>841667104676,amazon/53004484,amazon/b01ahb9cn2...</td>\n",
              "      <td>Amazon</td>\n",
              "      <td>2017-01-12T00:00:00.000Z</td>\n",
              "      <td>2017-07-03T23:33:15Z</td>\n",
              "      <td>2017-06-07T09:04:00.000Z,2017-04-30T00:45:00.000Z</td>\n",
              "      <td>...</td>\n",
              "      <td>True</td>\n",
              "      <td>NaN</td>\n",
              "      <td>0.0</td>\n",
              "      <td>5.0</td>\n",
              "      <td>http://reviews.bestbuy.com/3545/5620406/review...</td>\n",
              "      <td>I bought this for my grand daughter when she c...</td>\n",
              "      <td>Fantastic Tablet for kids</td>\n",
              "      <td>NaN</td>\n",
              "      <td>NaN</td>\n",
              "      <td>explore42</td>\n",
              "    </tr>\n",
              "    <tr>\n",
              "      <th>...</th>\n",
              "      <td>...</td>\n",
              "      <td>...</td>\n",
              "      <td>...</td>\n",
              "      <td>...</td>\n",
              "      <td>...</td>\n",
              "      <td>...</td>\n",
              "      <td>...</td>\n",
              "      <td>...</td>\n",
              "      <td>...</td>\n",
              "      <td>...</td>\n",
              "      <td>...</td>\n",
              "      <td>...</td>\n",
              "      <td>...</td>\n",
              "      <td>...</td>\n",
              "      <td>...</td>\n",
              "      <td>...</td>\n",
              "      <td>...</td>\n",
              "      <td>...</td>\n",
              "      <td>...</td>\n",
              "      <td>...</td>\n",
              "      <td>...</td>\n",
              "    </tr>\n",
              "    <tr>\n",
              "      <th>34655</th>\n",
              "      <td>AVpfiBlyLJeJML43-4Tp</td>\n",
              "      <td>NaN</td>\n",
              "      <td>B006GWO5WK</td>\n",
              "      <td>Amazon</td>\n",
              "      <td>Computers/Tablets &amp; Networking,Tablet &amp; eBook ...</td>\n",
              "      <td>newamazonkindlefirehd9wpowerfastadaptercharger...</td>\n",
              "      <td>Amazon Digital Services, Inc</td>\n",
              "      <td>2012-09-18T00:00:00Z</td>\n",
              "      <td>NaN</td>\n",
              "      <td>2015-08-29T00:00:00Z</td>\n",
              "      <td>...</td>\n",
              "      <td>NaN</td>\n",
              "      <td>NaN</td>\n",
              "      <td>NaN</td>\n",
              "      <td>3.0</td>\n",
              "      <td>http://www.amazon.com/Amazon-PowerFast-Adapter...</td>\n",
              "      <td>This is not appreciably faster than any other ...</td>\n",
              "      <td>Not appreciably faster than any other 1.8A cha...</td>\n",
              "      <td>NaN</td>\n",
              "      <td>NaN</td>\n",
              "      <td>Kris</td>\n",
              "    </tr>\n",
              "    <tr>\n",
              "      <th>34656</th>\n",
              "      <td>AVpfiBlyLJeJML43-4Tp</td>\n",
              "      <td>NaN</td>\n",
              "      <td>B006GWO5WK</td>\n",
              "      <td>Amazon</td>\n",
              "      <td>Computers/Tablets &amp; Networking,Tablet &amp; eBook ...</td>\n",
              "      <td>newamazonkindlefirehd9wpowerfastadaptercharger...</td>\n",
              "      <td>Amazon Digital Services, Inc</td>\n",
              "      <td>2012-11-21T00:00:00Z</td>\n",
              "      <td>NaN</td>\n",
              "      <td>2015-09-02T00:00:00Z</td>\n",
              "      <td>...</td>\n",
              "      <td>NaN</td>\n",
              "      <td>NaN</td>\n",
              "      <td>NaN</td>\n",
              "      <td>1.0</td>\n",
              "      <td>http://www.amazon.com/Amazon-PowerFast-Adapter...</td>\n",
              "      <td>Amazon should include this charger with the Ki...</td>\n",
              "      <td>Should be included</td>\n",
              "      <td>NaN</td>\n",
              "      <td>NaN</td>\n",
              "      <td>Jonathan Stewart</td>\n",
              "    </tr>\n",
              "    <tr>\n",
              "      <th>34657</th>\n",
              "      <td>AVpfiBlyLJeJML43-4Tp</td>\n",
              "      <td>NaN</td>\n",
              "      <td>B006GWO5WK</td>\n",
              "      <td>Amazon</td>\n",
              "      <td>Computers/Tablets &amp; Networking,Tablet &amp; eBook ...</td>\n",
              "      <td>newamazonkindlefirehd9wpowerfastadaptercharger...</td>\n",
              "      <td>Amazon Digital Services, Inc</td>\n",
              "      <td>2012-10-19T00:00:00Z</td>\n",
              "      <td>NaN</td>\n",
              "      <td>2015-09-04T00:00:00Z</td>\n",
              "      <td>...</td>\n",
              "      <td>NaN</td>\n",
              "      <td>NaN</td>\n",
              "      <td>NaN</td>\n",
              "      <td>1.0</td>\n",
              "      <td>http://www.amazon.com/Amazon-PowerFast-Adapter...</td>\n",
              "      <td>Love my Kindle Fire but I am really disappoint...</td>\n",
              "      <td>Disappointing Charger</td>\n",
              "      <td>NaN</td>\n",
              "      <td>NaN</td>\n",
              "      <td>J Lawson</td>\n",
              "    </tr>\n",
              "    <tr>\n",
              "      <th>34658</th>\n",
              "      <td>AVpfiBlyLJeJML43-4Tp</td>\n",
              "      <td>NaN</td>\n",
              "      <td>B006GWO5WK</td>\n",
              "      <td>Amazon</td>\n",
              "      <td>Computers/Tablets &amp; Networking,Tablet &amp; eBook ...</td>\n",
              "      <td>newamazonkindlefirehd9wpowerfastadaptercharger...</td>\n",
              "      <td>Amazon Digital Services, Inc</td>\n",
              "      <td>2012-10-31T00:00:00Z</td>\n",
              "      <td>NaN</td>\n",
              "      <td>2015-09-01T00:00:00Z</td>\n",
              "      <td>...</td>\n",
              "      <td>NaN</td>\n",
              "      <td>NaN</td>\n",
              "      <td>NaN</td>\n",
              "      <td>1.0</td>\n",
              "      <td>http://www.amazon.com/Amazon-PowerFast-Adapter...</td>\n",
              "      <td>I was surprised to find it did not come with a...</td>\n",
              "      <td>Not worth the money</td>\n",
              "      <td>NaN</td>\n",
              "      <td>NaN</td>\n",
              "      <td>Just the Buyer</td>\n",
              "    </tr>\n",
              "    <tr>\n",
              "      <th>34659</th>\n",
              "      <td>AVpfiBlyLJeJML43-4Tp</td>\n",
              "      <td>NaN</td>\n",
              "      <td>B006GWO5WK</td>\n",
              "      <td>Amazon</td>\n",
              "      <td>Computers/Tablets &amp; Networking,Tablet &amp; eBook ...</td>\n",
              "      <td>newamazonkindlefirehd9wpowerfastadaptercharger...</td>\n",
              "      <td>Amazon Digital Services, Inc</td>\n",
              "      <td>2012-12-23T00:00:00Z</td>\n",
              "      <td>NaN</td>\n",
              "      <td>2015-11-01T00:00:00Z</td>\n",
              "      <td>...</td>\n",
              "      <td>NaN</td>\n",
              "      <td>NaN</td>\n",
              "      <td>NaN</td>\n",
              "      <td>1.0</td>\n",
              "      <td>http://www.amazon.com/Amazon-PowerFast-Adapter...</td>\n",
              "      <td>to spite the fact that i have nothing but good...</td>\n",
              "      <td>as with everyone else</td>\n",
              "      <td>NaN</td>\n",
              "      <td>NaN</td>\n",
              "      <td>sandi</td>\n",
              "    </tr>\n",
              "  </tbody>\n",
              "</table>\n",
              "<p>34660 rows × 21 columns</p>\n",
              "</div>\n",
              "      <button class=\"colab-df-convert\" onclick=\"convertToInteractive('df-7f615175-51a8-43dd-8607-e439bbfe41f2')\"\n",
              "              title=\"Convert this dataframe to an interactive table.\"\n",
              "              style=\"display:none;\">\n",
              "        \n",
              "  <svg xmlns=\"http://www.w3.org/2000/svg\" height=\"24px\"viewBox=\"0 0 24 24\"\n",
              "       width=\"24px\">\n",
              "    <path d=\"M0 0h24v24H0V0z\" fill=\"none\"/>\n",
              "    <path d=\"M18.56 5.44l.94 2.06.94-2.06 2.06-.94-2.06-.94-.94-2.06-.94 2.06-2.06.94zm-11 1L8.5 8.5l.94-2.06 2.06-.94-2.06-.94L8.5 2.5l-.94 2.06-2.06.94zm10 10l.94 2.06.94-2.06 2.06-.94-2.06-.94-.94-2.06-.94 2.06-2.06.94z\"/><path d=\"M17.41 7.96l-1.37-1.37c-.4-.4-.92-.59-1.43-.59-.52 0-1.04.2-1.43.59L10.3 9.45l-7.72 7.72c-.78.78-.78 2.05 0 2.83L4 21.41c.39.39.9.59 1.41.59.51 0 1.02-.2 1.41-.59l7.78-7.78 2.81-2.81c.8-.78.8-2.07 0-2.86zM5.41 20L4 18.59l7.72-7.72 1.47 1.35L5.41 20z\"/>\n",
              "  </svg>\n",
              "      </button>\n",
              "      \n",
              "  <style>\n",
              "    .colab-df-container {\n",
              "      display:flex;\n",
              "      flex-wrap:wrap;\n",
              "      gap: 12px;\n",
              "    }\n",
              "\n",
              "    .colab-df-convert {\n",
              "      background-color: #E8F0FE;\n",
              "      border: none;\n",
              "      border-radius: 50%;\n",
              "      cursor: pointer;\n",
              "      display: none;\n",
              "      fill: #1967D2;\n",
              "      height: 32px;\n",
              "      padding: 0 0 0 0;\n",
              "      width: 32px;\n",
              "    }\n",
              "\n",
              "    .colab-df-convert:hover {\n",
              "      background-color: #E2EBFA;\n",
              "      box-shadow: 0px 1px 2px rgba(60, 64, 67, 0.3), 0px 1px 3px 1px rgba(60, 64, 67, 0.15);\n",
              "      fill: #174EA6;\n",
              "    }\n",
              "\n",
              "    [theme=dark] .colab-df-convert {\n",
              "      background-color: #3B4455;\n",
              "      fill: #D2E3FC;\n",
              "    }\n",
              "\n",
              "    [theme=dark] .colab-df-convert:hover {\n",
              "      background-color: #434B5C;\n",
              "      box-shadow: 0px 1px 3px 1px rgba(0, 0, 0, 0.15);\n",
              "      filter: drop-shadow(0px 1px 2px rgba(0, 0, 0, 0.3));\n",
              "      fill: #FFFFFF;\n",
              "    }\n",
              "  </style>\n",
              "\n",
              "      <script>\n",
              "        const buttonEl =\n",
              "          document.querySelector('#df-7f615175-51a8-43dd-8607-e439bbfe41f2 button.colab-df-convert');\n",
              "        buttonEl.style.display =\n",
              "          google.colab.kernel.accessAllowed ? 'block' : 'none';\n",
              "\n",
              "        async function convertToInteractive(key) {\n",
              "          const element = document.querySelector('#df-7f615175-51a8-43dd-8607-e439bbfe41f2');\n",
              "          const dataTable =\n",
              "            await google.colab.kernel.invokeFunction('convertToInteractive',\n",
              "                                                     [key], {});\n",
              "          if (!dataTable) return;\n",
              "\n",
              "          const docLinkHtml = 'Like what you see? Visit the ' +\n",
              "            '<a target=\"_blank\" href=https://colab.research.google.com/notebooks/data_table.ipynb>data table notebook</a>'\n",
              "            + ' to learn more about interactive tables.';\n",
              "          element.innerHTML = '';\n",
              "          dataTable['output_type'] = 'display_data';\n",
              "          await google.colab.output.renderOutput(dataTable, element);\n",
              "          const docLink = document.createElement('div');\n",
              "          docLink.innerHTML = docLinkHtml;\n",
              "          element.appendChild(docLink);\n",
              "        }\n",
              "      </script>\n",
              "    </div>\n",
              "  </div>\n",
              "  "
            ]
          },
          "metadata": {},
          "execution_count": 4
        }
      ]
    },
    {
      "cell_type": "markdown",
      "source": [
        "**DATA PREPROCESSING**\n",
        "\n",
        "As the sentiment analysis focuses on the ratings and reviews, I will find missing values and clean the dataset"
      ],
      "metadata": {
        "id": "tWW-t02PiEuM"
      }
    },
    {
      "cell_type": "code",
      "source": [
        "df['reviews.rating'].isnull().sum()"
      ],
      "metadata": {
        "colab": {
          "base_uri": "https://localhost:8080/"
        },
        "id": "4LEEvRiVeAgE",
        "outputId": "0875b4f7-214b-4699-b4d5-72fb01efca51"
      },
      "execution_count": 5,
      "outputs": [
        {
          "output_type": "execute_result",
          "data": {
            "text/plain": [
              "33"
            ]
          },
          "metadata": {},
          "execution_count": 5
        }
      ]
    },
    {
      "cell_type": "code",
      "source": [
        "df['reviews.text'].isnull().sum()"
      ],
      "metadata": {
        "colab": {
          "base_uri": "https://localhost:8080/"
        },
        "id": "t4G7dgP2ilcK",
        "outputId": "14508cea-8d01-4607-95cd-4ea059c09d06"
      },
      "execution_count": 6,
      "outputs": [
        {
          "output_type": "execute_result",
          "data": {
            "text/plain": [
              "1"
            ]
          },
          "metadata": {},
          "execution_count": 6
        }
      ]
    },
    {
      "cell_type": "markdown",
      "source": [
        "Since the number of missing values is low and we have suffcient data, I will proceed to drop these rows "
      ],
      "metadata": {
        "id": "Q4iEuYC9jusU"
      }
    },
    {
      "cell_type": "code",
      "source": [
        "df.dropna(subset=['reviews.text', 'reviews.rating'], inplace=True)\n",
        "df"
      ],
      "metadata": {
        "id": "NMXFJobejr-n",
        "colab": {
          "base_uri": "https://localhost:8080/",
          "height": 1000
        },
        "outputId": "355bf98a-e6d5-4263-af78-029741c87ccc"
      },
      "execution_count": 7,
      "outputs": [
        {
          "output_type": "execute_result",
          "data": {
            "text/plain": [
              "                         id  \\\n",
              "0      AVqkIhwDv8e3D1O-lebb   \n",
              "1      AVqkIhwDv8e3D1O-lebb   \n",
              "2      AVqkIhwDv8e3D1O-lebb   \n",
              "3      AVqkIhwDv8e3D1O-lebb   \n",
              "4      AVqkIhwDv8e3D1O-lebb   \n",
              "...                     ...   \n",
              "34655  AVpfiBlyLJeJML43-4Tp   \n",
              "34656  AVpfiBlyLJeJML43-4Tp   \n",
              "34657  AVpfiBlyLJeJML43-4Tp   \n",
              "34658  AVpfiBlyLJeJML43-4Tp   \n",
              "34659  AVpfiBlyLJeJML43-4Tp   \n",
              "\n",
              "                                                    name       asins   brand  \\\n",
              "0      All-New Fire HD 8 Tablet, 8 HD Display, Wi-Fi,...  B01AHB9CN2  Amazon   \n",
              "1      All-New Fire HD 8 Tablet, 8 HD Display, Wi-Fi,...  B01AHB9CN2  Amazon   \n",
              "2      All-New Fire HD 8 Tablet, 8 HD Display, Wi-Fi,...  B01AHB9CN2  Amazon   \n",
              "3      All-New Fire HD 8 Tablet, 8 HD Display, Wi-Fi,...  B01AHB9CN2  Amazon   \n",
              "4      All-New Fire HD 8 Tablet, 8 HD Display, Wi-Fi,...  B01AHB9CN2  Amazon   \n",
              "...                                                  ...         ...     ...   \n",
              "34655                                                NaN  B006GWO5WK  Amazon   \n",
              "34656                                                NaN  B006GWO5WK  Amazon   \n",
              "34657                                                NaN  B006GWO5WK  Amazon   \n",
              "34658                                                NaN  B006GWO5WK  Amazon   \n",
              "34659                                                NaN  B006GWO5WK  Amazon   \n",
              "\n",
              "                                              categories  \\\n",
              "0      Electronics,iPad & Tablets,All Tablets,Fire Ta...   \n",
              "1      Electronics,iPad & Tablets,All Tablets,Fire Ta...   \n",
              "2      Electronics,iPad & Tablets,All Tablets,Fire Ta...   \n",
              "3      Electronics,iPad & Tablets,All Tablets,Fire Ta...   \n",
              "4      Electronics,iPad & Tablets,All Tablets,Fire Ta...   \n",
              "...                                                  ...   \n",
              "34655  Computers/Tablets & Networking,Tablet & eBook ...   \n",
              "34656  Computers/Tablets & Networking,Tablet & eBook ...   \n",
              "34657  Computers/Tablets & Networking,Tablet & eBook ...   \n",
              "34658  Computers/Tablets & Networking,Tablet & eBook ...   \n",
              "34659  Computers/Tablets & Networking,Tablet & eBook ...   \n",
              "\n",
              "                                                    keys  \\\n",
              "0      841667104676,amazon/53004484,amazon/b01ahb9cn2...   \n",
              "1      841667104676,amazon/53004484,amazon/b01ahb9cn2...   \n",
              "2      841667104676,amazon/53004484,amazon/b01ahb9cn2...   \n",
              "3      841667104676,amazon/53004484,amazon/b01ahb9cn2...   \n",
              "4      841667104676,amazon/53004484,amazon/b01ahb9cn2...   \n",
              "...                                                  ...   \n",
              "34655  newamazonkindlefirehd9wpowerfastadaptercharger...   \n",
              "34656  newamazonkindlefirehd9wpowerfastadaptercharger...   \n",
              "34657  newamazonkindlefirehd9wpowerfastadaptercharger...   \n",
              "34658  newamazonkindlefirehd9wpowerfastadaptercharger...   \n",
              "34659  newamazonkindlefirehd9wpowerfastadaptercharger...   \n",
              "\n",
              "                       manufacturer              reviews.date  \\\n",
              "0                            Amazon  2017-01-13T00:00:00.000Z   \n",
              "1                            Amazon  2017-01-13T00:00:00.000Z   \n",
              "2                            Amazon  2017-01-13T00:00:00.000Z   \n",
              "3                            Amazon  2017-01-13T00:00:00.000Z   \n",
              "4                            Amazon  2017-01-12T00:00:00.000Z   \n",
              "...                             ...                       ...   \n",
              "34655  Amazon Digital Services, Inc      2012-09-18T00:00:00Z   \n",
              "34656  Amazon Digital Services, Inc      2012-11-21T00:00:00Z   \n",
              "34657  Amazon Digital Services, Inc      2012-10-19T00:00:00Z   \n",
              "34658  Amazon Digital Services, Inc      2012-10-31T00:00:00Z   \n",
              "34659  Amazon Digital Services, Inc      2012-12-23T00:00:00Z   \n",
              "\n",
              "          reviews.dateAdded  \\\n",
              "0      2017-07-03T23:33:15Z   \n",
              "1      2017-07-03T23:33:15Z   \n",
              "2      2017-07-03T23:33:15Z   \n",
              "3      2017-07-03T23:33:15Z   \n",
              "4      2017-07-03T23:33:15Z   \n",
              "...                     ...   \n",
              "34655                   NaN   \n",
              "34656                   NaN   \n",
              "34657                   NaN   \n",
              "34658                   NaN   \n",
              "34659                   NaN   \n",
              "\n",
              "                                        reviews.dateSeen  ...  \\\n",
              "0      2017-06-07T09:04:00.000Z,2017-04-30T00:45:00.000Z  ...   \n",
              "1      2017-06-07T09:04:00.000Z,2017-04-30T00:45:00.000Z  ...   \n",
              "2      2017-06-07T09:04:00.000Z,2017-04-30T00:45:00.000Z  ...   \n",
              "3      2017-06-07T09:04:00.000Z,2017-04-30T00:45:00.000Z  ...   \n",
              "4      2017-06-07T09:04:00.000Z,2017-04-30T00:45:00.000Z  ...   \n",
              "...                                                  ...  ...   \n",
              "34655                               2015-08-29T00:00:00Z  ...   \n",
              "34656                               2015-09-02T00:00:00Z  ...   \n",
              "34657                               2015-09-04T00:00:00Z  ...   \n",
              "34658                               2015-09-01T00:00:00Z  ...   \n",
              "34659                               2015-11-01T00:00:00Z  ...   \n",
              "\n",
              "      reviews.doRecommend reviews.id  reviews.numHelpful  reviews.rating  \\\n",
              "0                    True        NaN                 0.0             5.0   \n",
              "1                    True        NaN                 0.0             5.0   \n",
              "2                    True        NaN                 0.0             5.0   \n",
              "3                    True        NaN                 0.0             4.0   \n",
              "4                    True        NaN                 0.0             5.0   \n",
              "...                   ...        ...                 ...             ...   \n",
              "34655                 NaN        NaN                 NaN             3.0   \n",
              "34656                 NaN        NaN                 NaN             1.0   \n",
              "34657                 NaN        NaN                 NaN             1.0   \n",
              "34658                 NaN        NaN                 NaN             1.0   \n",
              "34659                 NaN        NaN                 NaN             1.0   \n",
              "\n",
              "                                      reviews.sourceURLs  \\\n",
              "0      http://reviews.bestbuy.com/3545/5620406/review...   \n",
              "1      http://reviews.bestbuy.com/3545/5620406/review...   \n",
              "2      http://reviews.bestbuy.com/3545/5620406/review...   \n",
              "3      http://reviews.bestbuy.com/3545/5620406/review...   \n",
              "4      http://reviews.bestbuy.com/3545/5620406/review...   \n",
              "...                                                  ...   \n",
              "34655  http://www.amazon.com/Amazon-PowerFast-Adapter...   \n",
              "34656  http://www.amazon.com/Amazon-PowerFast-Adapter...   \n",
              "34657  http://www.amazon.com/Amazon-PowerFast-Adapter...   \n",
              "34658  http://www.amazon.com/Amazon-PowerFast-Adapter...   \n",
              "34659  http://www.amazon.com/Amazon-PowerFast-Adapter...   \n",
              "\n",
              "                                            reviews.text  \\\n",
              "0      This product so far has not disappointed. My c...   \n",
              "1      great for beginner or experienced person. Boug...   \n",
              "2      Inexpensive tablet for him to use and learn on...   \n",
              "3      I've had my Fire HD 8 two weeks now and I love...   \n",
              "4      I bought this for my grand daughter when she c...   \n",
              "...                                                  ...   \n",
              "34655  This is not appreciably faster than any other ...   \n",
              "34656  Amazon should include this charger with the Ki...   \n",
              "34657  Love my Kindle Fire but I am really disappoint...   \n",
              "34658  I was surprised to find it did not come with a...   \n",
              "34659  to spite the fact that i have nothing but good...   \n",
              "\n",
              "                                           reviews.title reviews.userCity  \\\n",
              "0                                                 Kindle              NaN   \n",
              "1                                              very fast              NaN   \n",
              "2                Beginner tablet for our 9 year old son.              NaN   \n",
              "3                                                Good!!!              NaN   \n",
              "4                              Fantastic Tablet for kids              NaN   \n",
              "...                                                  ...              ...   \n",
              "34655  Not appreciably faster than any other 1.8A cha...              NaN   \n",
              "34656                                 Should be included              NaN   \n",
              "34657                              Disappointing Charger              NaN   \n",
              "34658                                Not worth the money              NaN   \n",
              "34659                              as with everyone else              NaN   \n",
              "\n",
              "       reviews.userProvince  reviews.username  \n",
              "0                       NaN           Adapter  \n",
              "1                       NaN            truman  \n",
              "2                       NaN             DaveZ  \n",
              "3                       NaN            Shacks  \n",
              "4                       NaN         explore42  \n",
              "...                     ...               ...  \n",
              "34655                   NaN              Kris  \n",
              "34656                   NaN  Jonathan Stewart  \n",
              "34657                   NaN          J Lawson  \n",
              "34658                   NaN    Just the Buyer  \n",
              "34659                   NaN             sandi  \n",
              "\n",
              "[34626 rows x 21 columns]"
            ],
            "text/html": [
              "\n",
              "  <div id=\"df-39fcae6f-9f7f-4be6-969a-864d30dd61b0\">\n",
              "    <div class=\"colab-df-container\">\n",
              "      <div>\n",
              "<style scoped>\n",
              "    .dataframe tbody tr th:only-of-type {\n",
              "        vertical-align: middle;\n",
              "    }\n",
              "\n",
              "    .dataframe tbody tr th {\n",
              "        vertical-align: top;\n",
              "    }\n",
              "\n",
              "    .dataframe thead th {\n",
              "        text-align: right;\n",
              "    }\n",
              "</style>\n",
              "<table border=\"1\" class=\"dataframe\">\n",
              "  <thead>\n",
              "    <tr style=\"text-align: right;\">\n",
              "      <th></th>\n",
              "      <th>id</th>\n",
              "      <th>name</th>\n",
              "      <th>asins</th>\n",
              "      <th>brand</th>\n",
              "      <th>categories</th>\n",
              "      <th>keys</th>\n",
              "      <th>manufacturer</th>\n",
              "      <th>reviews.date</th>\n",
              "      <th>reviews.dateAdded</th>\n",
              "      <th>reviews.dateSeen</th>\n",
              "      <th>...</th>\n",
              "      <th>reviews.doRecommend</th>\n",
              "      <th>reviews.id</th>\n",
              "      <th>reviews.numHelpful</th>\n",
              "      <th>reviews.rating</th>\n",
              "      <th>reviews.sourceURLs</th>\n",
              "      <th>reviews.text</th>\n",
              "      <th>reviews.title</th>\n",
              "      <th>reviews.userCity</th>\n",
              "      <th>reviews.userProvince</th>\n",
              "      <th>reviews.username</th>\n",
              "    </tr>\n",
              "  </thead>\n",
              "  <tbody>\n",
              "    <tr>\n",
              "      <th>0</th>\n",
              "      <td>AVqkIhwDv8e3D1O-lebb</td>\n",
              "      <td>All-New Fire HD 8 Tablet, 8 HD Display, Wi-Fi,...</td>\n",
              "      <td>B01AHB9CN2</td>\n",
              "      <td>Amazon</td>\n",
              "      <td>Electronics,iPad &amp; Tablets,All Tablets,Fire Ta...</td>\n",
              "      <td>841667104676,amazon/53004484,amazon/b01ahb9cn2...</td>\n",
              "      <td>Amazon</td>\n",
              "      <td>2017-01-13T00:00:00.000Z</td>\n",
              "      <td>2017-07-03T23:33:15Z</td>\n",
              "      <td>2017-06-07T09:04:00.000Z,2017-04-30T00:45:00.000Z</td>\n",
              "      <td>...</td>\n",
              "      <td>True</td>\n",
              "      <td>NaN</td>\n",
              "      <td>0.0</td>\n",
              "      <td>5.0</td>\n",
              "      <td>http://reviews.bestbuy.com/3545/5620406/review...</td>\n",
              "      <td>This product so far has not disappointed. My c...</td>\n",
              "      <td>Kindle</td>\n",
              "      <td>NaN</td>\n",
              "      <td>NaN</td>\n",
              "      <td>Adapter</td>\n",
              "    </tr>\n",
              "    <tr>\n",
              "      <th>1</th>\n",
              "      <td>AVqkIhwDv8e3D1O-lebb</td>\n",
              "      <td>All-New Fire HD 8 Tablet, 8 HD Display, Wi-Fi,...</td>\n",
              "      <td>B01AHB9CN2</td>\n",
              "      <td>Amazon</td>\n",
              "      <td>Electronics,iPad &amp; Tablets,All Tablets,Fire Ta...</td>\n",
              "      <td>841667104676,amazon/53004484,amazon/b01ahb9cn2...</td>\n",
              "      <td>Amazon</td>\n",
              "      <td>2017-01-13T00:00:00.000Z</td>\n",
              "      <td>2017-07-03T23:33:15Z</td>\n",
              "      <td>2017-06-07T09:04:00.000Z,2017-04-30T00:45:00.000Z</td>\n",
              "      <td>...</td>\n",
              "      <td>True</td>\n",
              "      <td>NaN</td>\n",
              "      <td>0.0</td>\n",
              "      <td>5.0</td>\n",
              "      <td>http://reviews.bestbuy.com/3545/5620406/review...</td>\n",
              "      <td>great for beginner or experienced person. Boug...</td>\n",
              "      <td>very fast</td>\n",
              "      <td>NaN</td>\n",
              "      <td>NaN</td>\n",
              "      <td>truman</td>\n",
              "    </tr>\n",
              "    <tr>\n",
              "      <th>2</th>\n",
              "      <td>AVqkIhwDv8e3D1O-lebb</td>\n",
              "      <td>All-New Fire HD 8 Tablet, 8 HD Display, Wi-Fi,...</td>\n",
              "      <td>B01AHB9CN2</td>\n",
              "      <td>Amazon</td>\n",
              "      <td>Electronics,iPad &amp; Tablets,All Tablets,Fire Ta...</td>\n",
              "      <td>841667104676,amazon/53004484,amazon/b01ahb9cn2...</td>\n",
              "      <td>Amazon</td>\n",
              "      <td>2017-01-13T00:00:00.000Z</td>\n",
              "      <td>2017-07-03T23:33:15Z</td>\n",
              "      <td>2017-06-07T09:04:00.000Z,2017-04-30T00:45:00.000Z</td>\n",
              "      <td>...</td>\n",
              "      <td>True</td>\n",
              "      <td>NaN</td>\n",
              "      <td>0.0</td>\n",
              "      <td>5.0</td>\n",
              "      <td>http://reviews.bestbuy.com/3545/5620406/review...</td>\n",
              "      <td>Inexpensive tablet for him to use and learn on...</td>\n",
              "      <td>Beginner tablet for our 9 year old son.</td>\n",
              "      <td>NaN</td>\n",
              "      <td>NaN</td>\n",
              "      <td>DaveZ</td>\n",
              "    </tr>\n",
              "    <tr>\n",
              "      <th>3</th>\n",
              "      <td>AVqkIhwDv8e3D1O-lebb</td>\n",
              "      <td>All-New Fire HD 8 Tablet, 8 HD Display, Wi-Fi,...</td>\n",
              "      <td>B01AHB9CN2</td>\n",
              "      <td>Amazon</td>\n",
              "      <td>Electronics,iPad &amp; Tablets,All Tablets,Fire Ta...</td>\n",
              "      <td>841667104676,amazon/53004484,amazon/b01ahb9cn2...</td>\n",
              "      <td>Amazon</td>\n",
              "      <td>2017-01-13T00:00:00.000Z</td>\n",
              "      <td>2017-07-03T23:33:15Z</td>\n",
              "      <td>2017-06-07T09:04:00.000Z,2017-04-30T00:45:00.000Z</td>\n",
              "      <td>...</td>\n",
              "      <td>True</td>\n",
              "      <td>NaN</td>\n",
              "      <td>0.0</td>\n",
              "      <td>4.0</td>\n",
              "      <td>http://reviews.bestbuy.com/3545/5620406/review...</td>\n",
              "      <td>I've had my Fire HD 8 two weeks now and I love...</td>\n",
              "      <td>Good!!!</td>\n",
              "      <td>NaN</td>\n",
              "      <td>NaN</td>\n",
              "      <td>Shacks</td>\n",
              "    </tr>\n",
              "    <tr>\n",
              "      <th>4</th>\n",
              "      <td>AVqkIhwDv8e3D1O-lebb</td>\n",
              "      <td>All-New Fire HD 8 Tablet, 8 HD Display, Wi-Fi,...</td>\n",
              "      <td>B01AHB9CN2</td>\n",
              "      <td>Amazon</td>\n",
              "      <td>Electronics,iPad &amp; Tablets,All Tablets,Fire Ta...</td>\n",
              "      <td>841667104676,amazon/53004484,amazon/b01ahb9cn2...</td>\n",
              "      <td>Amazon</td>\n",
              "      <td>2017-01-12T00:00:00.000Z</td>\n",
              "      <td>2017-07-03T23:33:15Z</td>\n",
              "      <td>2017-06-07T09:04:00.000Z,2017-04-30T00:45:00.000Z</td>\n",
              "      <td>...</td>\n",
              "      <td>True</td>\n",
              "      <td>NaN</td>\n",
              "      <td>0.0</td>\n",
              "      <td>5.0</td>\n",
              "      <td>http://reviews.bestbuy.com/3545/5620406/review...</td>\n",
              "      <td>I bought this for my grand daughter when she c...</td>\n",
              "      <td>Fantastic Tablet for kids</td>\n",
              "      <td>NaN</td>\n",
              "      <td>NaN</td>\n",
              "      <td>explore42</td>\n",
              "    </tr>\n",
              "    <tr>\n",
              "      <th>...</th>\n",
              "      <td>...</td>\n",
              "      <td>...</td>\n",
              "      <td>...</td>\n",
              "      <td>...</td>\n",
              "      <td>...</td>\n",
              "      <td>...</td>\n",
              "      <td>...</td>\n",
              "      <td>...</td>\n",
              "      <td>...</td>\n",
              "      <td>...</td>\n",
              "      <td>...</td>\n",
              "      <td>...</td>\n",
              "      <td>...</td>\n",
              "      <td>...</td>\n",
              "      <td>...</td>\n",
              "      <td>...</td>\n",
              "      <td>...</td>\n",
              "      <td>...</td>\n",
              "      <td>...</td>\n",
              "      <td>...</td>\n",
              "      <td>...</td>\n",
              "    </tr>\n",
              "    <tr>\n",
              "      <th>34655</th>\n",
              "      <td>AVpfiBlyLJeJML43-4Tp</td>\n",
              "      <td>NaN</td>\n",
              "      <td>B006GWO5WK</td>\n",
              "      <td>Amazon</td>\n",
              "      <td>Computers/Tablets &amp; Networking,Tablet &amp; eBook ...</td>\n",
              "      <td>newamazonkindlefirehd9wpowerfastadaptercharger...</td>\n",
              "      <td>Amazon Digital Services, Inc</td>\n",
              "      <td>2012-09-18T00:00:00Z</td>\n",
              "      <td>NaN</td>\n",
              "      <td>2015-08-29T00:00:00Z</td>\n",
              "      <td>...</td>\n",
              "      <td>NaN</td>\n",
              "      <td>NaN</td>\n",
              "      <td>NaN</td>\n",
              "      <td>3.0</td>\n",
              "      <td>http://www.amazon.com/Amazon-PowerFast-Adapter...</td>\n",
              "      <td>This is not appreciably faster than any other ...</td>\n",
              "      <td>Not appreciably faster than any other 1.8A cha...</td>\n",
              "      <td>NaN</td>\n",
              "      <td>NaN</td>\n",
              "      <td>Kris</td>\n",
              "    </tr>\n",
              "    <tr>\n",
              "      <th>34656</th>\n",
              "      <td>AVpfiBlyLJeJML43-4Tp</td>\n",
              "      <td>NaN</td>\n",
              "      <td>B006GWO5WK</td>\n",
              "      <td>Amazon</td>\n",
              "      <td>Computers/Tablets &amp; Networking,Tablet &amp; eBook ...</td>\n",
              "      <td>newamazonkindlefirehd9wpowerfastadaptercharger...</td>\n",
              "      <td>Amazon Digital Services, Inc</td>\n",
              "      <td>2012-11-21T00:00:00Z</td>\n",
              "      <td>NaN</td>\n",
              "      <td>2015-09-02T00:00:00Z</td>\n",
              "      <td>...</td>\n",
              "      <td>NaN</td>\n",
              "      <td>NaN</td>\n",
              "      <td>NaN</td>\n",
              "      <td>1.0</td>\n",
              "      <td>http://www.amazon.com/Amazon-PowerFast-Adapter...</td>\n",
              "      <td>Amazon should include this charger with the Ki...</td>\n",
              "      <td>Should be included</td>\n",
              "      <td>NaN</td>\n",
              "      <td>NaN</td>\n",
              "      <td>Jonathan Stewart</td>\n",
              "    </tr>\n",
              "    <tr>\n",
              "      <th>34657</th>\n",
              "      <td>AVpfiBlyLJeJML43-4Tp</td>\n",
              "      <td>NaN</td>\n",
              "      <td>B006GWO5WK</td>\n",
              "      <td>Amazon</td>\n",
              "      <td>Computers/Tablets &amp; Networking,Tablet &amp; eBook ...</td>\n",
              "      <td>newamazonkindlefirehd9wpowerfastadaptercharger...</td>\n",
              "      <td>Amazon Digital Services, Inc</td>\n",
              "      <td>2012-10-19T00:00:00Z</td>\n",
              "      <td>NaN</td>\n",
              "      <td>2015-09-04T00:00:00Z</td>\n",
              "      <td>...</td>\n",
              "      <td>NaN</td>\n",
              "      <td>NaN</td>\n",
              "      <td>NaN</td>\n",
              "      <td>1.0</td>\n",
              "      <td>http://www.amazon.com/Amazon-PowerFast-Adapter...</td>\n",
              "      <td>Love my Kindle Fire but I am really disappoint...</td>\n",
              "      <td>Disappointing Charger</td>\n",
              "      <td>NaN</td>\n",
              "      <td>NaN</td>\n",
              "      <td>J Lawson</td>\n",
              "    </tr>\n",
              "    <tr>\n",
              "      <th>34658</th>\n",
              "      <td>AVpfiBlyLJeJML43-4Tp</td>\n",
              "      <td>NaN</td>\n",
              "      <td>B006GWO5WK</td>\n",
              "      <td>Amazon</td>\n",
              "      <td>Computers/Tablets &amp; Networking,Tablet &amp; eBook ...</td>\n",
              "      <td>newamazonkindlefirehd9wpowerfastadaptercharger...</td>\n",
              "      <td>Amazon Digital Services, Inc</td>\n",
              "      <td>2012-10-31T00:00:00Z</td>\n",
              "      <td>NaN</td>\n",
              "      <td>2015-09-01T00:00:00Z</td>\n",
              "      <td>...</td>\n",
              "      <td>NaN</td>\n",
              "      <td>NaN</td>\n",
              "      <td>NaN</td>\n",
              "      <td>1.0</td>\n",
              "      <td>http://www.amazon.com/Amazon-PowerFast-Adapter...</td>\n",
              "      <td>I was surprised to find it did not come with a...</td>\n",
              "      <td>Not worth the money</td>\n",
              "      <td>NaN</td>\n",
              "      <td>NaN</td>\n",
              "      <td>Just the Buyer</td>\n",
              "    </tr>\n",
              "    <tr>\n",
              "      <th>34659</th>\n",
              "      <td>AVpfiBlyLJeJML43-4Tp</td>\n",
              "      <td>NaN</td>\n",
              "      <td>B006GWO5WK</td>\n",
              "      <td>Amazon</td>\n",
              "      <td>Computers/Tablets &amp; Networking,Tablet &amp; eBook ...</td>\n",
              "      <td>newamazonkindlefirehd9wpowerfastadaptercharger...</td>\n",
              "      <td>Amazon Digital Services, Inc</td>\n",
              "      <td>2012-12-23T00:00:00Z</td>\n",
              "      <td>NaN</td>\n",
              "      <td>2015-11-01T00:00:00Z</td>\n",
              "      <td>...</td>\n",
              "      <td>NaN</td>\n",
              "      <td>NaN</td>\n",
              "      <td>NaN</td>\n",
              "      <td>1.0</td>\n",
              "      <td>http://www.amazon.com/Amazon-PowerFast-Adapter...</td>\n",
              "      <td>to spite the fact that i have nothing but good...</td>\n",
              "      <td>as with everyone else</td>\n",
              "      <td>NaN</td>\n",
              "      <td>NaN</td>\n",
              "      <td>sandi</td>\n",
              "    </tr>\n",
              "  </tbody>\n",
              "</table>\n",
              "<p>34626 rows × 21 columns</p>\n",
              "</div>\n",
              "      <button class=\"colab-df-convert\" onclick=\"convertToInteractive('df-39fcae6f-9f7f-4be6-969a-864d30dd61b0')\"\n",
              "              title=\"Convert this dataframe to an interactive table.\"\n",
              "              style=\"display:none;\">\n",
              "        \n",
              "  <svg xmlns=\"http://www.w3.org/2000/svg\" height=\"24px\"viewBox=\"0 0 24 24\"\n",
              "       width=\"24px\">\n",
              "    <path d=\"M0 0h24v24H0V0z\" fill=\"none\"/>\n",
              "    <path d=\"M18.56 5.44l.94 2.06.94-2.06 2.06-.94-2.06-.94-.94-2.06-.94 2.06-2.06.94zm-11 1L8.5 8.5l.94-2.06 2.06-.94-2.06-.94L8.5 2.5l-.94 2.06-2.06.94zm10 10l.94 2.06.94-2.06 2.06-.94-2.06-.94-.94-2.06-.94 2.06-2.06.94z\"/><path d=\"M17.41 7.96l-1.37-1.37c-.4-.4-.92-.59-1.43-.59-.52 0-1.04.2-1.43.59L10.3 9.45l-7.72 7.72c-.78.78-.78 2.05 0 2.83L4 21.41c.39.39.9.59 1.41.59.51 0 1.02-.2 1.41-.59l7.78-7.78 2.81-2.81c.8-.78.8-2.07 0-2.86zM5.41 20L4 18.59l7.72-7.72 1.47 1.35L5.41 20z\"/>\n",
              "  </svg>\n",
              "      </button>\n",
              "      \n",
              "  <style>\n",
              "    .colab-df-container {\n",
              "      display:flex;\n",
              "      flex-wrap:wrap;\n",
              "      gap: 12px;\n",
              "    }\n",
              "\n",
              "    .colab-df-convert {\n",
              "      background-color: #E8F0FE;\n",
              "      border: none;\n",
              "      border-radius: 50%;\n",
              "      cursor: pointer;\n",
              "      display: none;\n",
              "      fill: #1967D2;\n",
              "      height: 32px;\n",
              "      padding: 0 0 0 0;\n",
              "      width: 32px;\n",
              "    }\n",
              "\n",
              "    .colab-df-convert:hover {\n",
              "      background-color: #E2EBFA;\n",
              "      box-shadow: 0px 1px 2px rgba(60, 64, 67, 0.3), 0px 1px 3px 1px rgba(60, 64, 67, 0.15);\n",
              "      fill: #174EA6;\n",
              "    }\n",
              "\n",
              "    [theme=dark] .colab-df-convert {\n",
              "      background-color: #3B4455;\n",
              "      fill: #D2E3FC;\n",
              "    }\n",
              "\n",
              "    [theme=dark] .colab-df-convert:hover {\n",
              "      background-color: #434B5C;\n",
              "      box-shadow: 0px 1px 3px 1px rgba(0, 0, 0, 0.15);\n",
              "      filter: drop-shadow(0px 1px 2px rgba(0, 0, 0, 0.3));\n",
              "      fill: #FFFFFF;\n",
              "    }\n",
              "  </style>\n",
              "\n",
              "      <script>\n",
              "        const buttonEl =\n",
              "          document.querySelector('#df-39fcae6f-9f7f-4be6-969a-864d30dd61b0 button.colab-df-convert');\n",
              "        buttonEl.style.display =\n",
              "          google.colab.kernel.accessAllowed ? 'block' : 'none';\n",
              "\n",
              "        async function convertToInteractive(key) {\n",
              "          const element = document.querySelector('#df-39fcae6f-9f7f-4be6-969a-864d30dd61b0');\n",
              "          const dataTable =\n",
              "            await google.colab.kernel.invokeFunction('convertToInteractive',\n",
              "                                                     [key], {});\n",
              "          if (!dataTable) return;\n",
              "\n",
              "          const docLinkHtml = 'Like what you see? Visit the ' +\n",
              "            '<a target=\"_blank\" href=https://colab.research.google.com/notebooks/data_table.ipynb>data table notebook</a>'\n",
              "            + ' to learn more about interactive tables.';\n",
              "          element.innerHTML = '';\n",
              "          dataTable['output_type'] = 'display_data';\n",
              "          await google.colab.output.renderOutput(dataTable, element);\n",
              "          const docLink = document.createElement('div');\n",
              "          docLink.innerHTML = docLinkHtml;\n",
              "          element.appendChild(docLink);\n",
              "        }\n",
              "      </script>\n",
              "    </div>\n",
              "  </div>\n",
              "  "
            ]
          },
          "metadata": {},
          "execution_count": 7
        }
      ]
    },
    {
      "cell_type": "markdown",
      "source": [
        "We will use the user ratings to determine the sentiment of the product where a rating > 3 indicates a positive review, a rating <= 3 indicates a negative review"
      ],
      "metadata": {
        "id": "n-UsNw59wGXo"
      }
    },
    {
      "cell_type": "code",
      "source": [
        "def get_senti(rate):\n",
        "  if rate>3:\n",
        "    return 'Positive'\n",
        "  else:\n",
        "    return 'Negative'"
      ],
      "metadata": {
        "id": "2Tyxi4sjXWHv"
      },
      "execution_count": 8,
      "outputs": []
    },
    {
      "cell_type": "code",
      "source": [
        "df['sentiment'] = df['reviews.rating'].apply(get_senti)\n",
        "df"
      ],
      "metadata": {
        "id": "gD3UQqpBpe3d",
        "colab": {
          "base_uri": "https://localhost:8080/",
          "height": 1000
        },
        "outputId": "4773c167-81c2-4fc4-bff4-743e5cee0257"
      },
      "execution_count": 9,
      "outputs": [
        {
          "output_type": "execute_result",
          "data": {
            "text/plain": [
              "                         id  \\\n",
              "0      AVqkIhwDv8e3D1O-lebb   \n",
              "1      AVqkIhwDv8e3D1O-lebb   \n",
              "2      AVqkIhwDv8e3D1O-lebb   \n",
              "3      AVqkIhwDv8e3D1O-lebb   \n",
              "4      AVqkIhwDv8e3D1O-lebb   \n",
              "...                     ...   \n",
              "34655  AVpfiBlyLJeJML43-4Tp   \n",
              "34656  AVpfiBlyLJeJML43-4Tp   \n",
              "34657  AVpfiBlyLJeJML43-4Tp   \n",
              "34658  AVpfiBlyLJeJML43-4Tp   \n",
              "34659  AVpfiBlyLJeJML43-4Tp   \n",
              "\n",
              "                                                    name       asins   brand  \\\n",
              "0      All-New Fire HD 8 Tablet, 8 HD Display, Wi-Fi,...  B01AHB9CN2  Amazon   \n",
              "1      All-New Fire HD 8 Tablet, 8 HD Display, Wi-Fi,...  B01AHB9CN2  Amazon   \n",
              "2      All-New Fire HD 8 Tablet, 8 HD Display, Wi-Fi,...  B01AHB9CN2  Amazon   \n",
              "3      All-New Fire HD 8 Tablet, 8 HD Display, Wi-Fi,...  B01AHB9CN2  Amazon   \n",
              "4      All-New Fire HD 8 Tablet, 8 HD Display, Wi-Fi,...  B01AHB9CN2  Amazon   \n",
              "...                                                  ...         ...     ...   \n",
              "34655                                                NaN  B006GWO5WK  Amazon   \n",
              "34656                                                NaN  B006GWO5WK  Amazon   \n",
              "34657                                                NaN  B006GWO5WK  Amazon   \n",
              "34658                                                NaN  B006GWO5WK  Amazon   \n",
              "34659                                                NaN  B006GWO5WK  Amazon   \n",
              "\n",
              "                                              categories  \\\n",
              "0      Electronics,iPad & Tablets,All Tablets,Fire Ta...   \n",
              "1      Electronics,iPad & Tablets,All Tablets,Fire Ta...   \n",
              "2      Electronics,iPad & Tablets,All Tablets,Fire Ta...   \n",
              "3      Electronics,iPad & Tablets,All Tablets,Fire Ta...   \n",
              "4      Electronics,iPad & Tablets,All Tablets,Fire Ta...   \n",
              "...                                                  ...   \n",
              "34655  Computers/Tablets & Networking,Tablet & eBook ...   \n",
              "34656  Computers/Tablets & Networking,Tablet & eBook ...   \n",
              "34657  Computers/Tablets & Networking,Tablet & eBook ...   \n",
              "34658  Computers/Tablets & Networking,Tablet & eBook ...   \n",
              "34659  Computers/Tablets & Networking,Tablet & eBook ...   \n",
              "\n",
              "                                                    keys  \\\n",
              "0      841667104676,amazon/53004484,amazon/b01ahb9cn2...   \n",
              "1      841667104676,amazon/53004484,amazon/b01ahb9cn2...   \n",
              "2      841667104676,amazon/53004484,amazon/b01ahb9cn2...   \n",
              "3      841667104676,amazon/53004484,amazon/b01ahb9cn2...   \n",
              "4      841667104676,amazon/53004484,amazon/b01ahb9cn2...   \n",
              "...                                                  ...   \n",
              "34655  newamazonkindlefirehd9wpowerfastadaptercharger...   \n",
              "34656  newamazonkindlefirehd9wpowerfastadaptercharger...   \n",
              "34657  newamazonkindlefirehd9wpowerfastadaptercharger...   \n",
              "34658  newamazonkindlefirehd9wpowerfastadaptercharger...   \n",
              "34659  newamazonkindlefirehd9wpowerfastadaptercharger...   \n",
              "\n",
              "                       manufacturer              reviews.date  \\\n",
              "0                            Amazon  2017-01-13T00:00:00.000Z   \n",
              "1                            Amazon  2017-01-13T00:00:00.000Z   \n",
              "2                            Amazon  2017-01-13T00:00:00.000Z   \n",
              "3                            Amazon  2017-01-13T00:00:00.000Z   \n",
              "4                            Amazon  2017-01-12T00:00:00.000Z   \n",
              "...                             ...                       ...   \n",
              "34655  Amazon Digital Services, Inc      2012-09-18T00:00:00Z   \n",
              "34656  Amazon Digital Services, Inc      2012-11-21T00:00:00Z   \n",
              "34657  Amazon Digital Services, Inc      2012-10-19T00:00:00Z   \n",
              "34658  Amazon Digital Services, Inc      2012-10-31T00:00:00Z   \n",
              "34659  Amazon Digital Services, Inc      2012-12-23T00:00:00Z   \n",
              "\n",
              "          reviews.dateAdded  \\\n",
              "0      2017-07-03T23:33:15Z   \n",
              "1      2017-07-03T23:33:15Z   \n",
              "2      2017-07-03T23:33:15Z   \n",
              "3      2017-07-03T23:33:15Z   \n",
              "4      2017-07-03T23:33:15Z   \n",
              "...                     ...   \n",
              "34655                   NaN   \n",
              "34656                   NaN   \n",
              "34657                   NaN   \n",
              "34658                   NaN   \n",
              "34659                   NaN   \n",
              "\n",
              "                                        reviews.dateSeen  ... reviews.id  \\\n",
              "0      2017-06-07T09:04:00.000Z,2017-04-30T00:45:00.000Z  ...        NaN   \n",
              "1      2017-06-07T09:04:00.000Z,2017-04-30T00:45:00.000Z  ...        NaN   \n",
              "2      2017-06-07T09:04:00.000Z,2017-04-30T00:45:00.000Z  ...        NaN   \n",
              "3      2017-06-07T09:04:00.000Z,2017-04-30T00:45:00.000Z  ...        NaN   \n",
              "4      2017-06-07T09:04:00.000Z,2017-04-30T00:45:00.000Z  ...        NaN   \n",
              "...                                                  ...  ...        ...   \n",
              "34655                               2015-08-29T00:00:00Z  ...        NaN   \n",
              "34656                               2015-09-02T00:00:00Z  ...        NaN   \n",
              "34657                               2015-09-04T00:00:00Z  ...        NaN   \n",
              "34658                               2015-09-01T00:00:00Z  ...        NaN   \n",
              "34659                               2015-11-01T00:00:00Z  ...        NaN   \n",
              "\n",
              "      reviews.numHelpful  reviews.rating  \\\n",
              "0                    0.0             5.0   \n",
              "1                    0.0             5.0   \n",
              "2                    0.0             5.0   \n",
              "3                    0.0             4.0   \n",
              "4                    0.0             5.0   \n",
              "...                  ...             ...   \n",
              "34655                NaN             3.0   \n",
              "34656                NaN             1.0   \n",
              "34657                NaN             1.0   \n",
              "34658                NaN             1.0   \n",
              "34659                NaN             1.0   \n",
              "\n",
              "                                      reviews.sourceURLs  \\\n",
              "0      http://reviews.bestbuy.com/3545/5620406/review...   \n",
              "1      http://reviews.bestbuy.com/3545/5620406/review...   \n",
              "2      http://reviews.bestbuy.com/3545/5620406/review...   \n",
              "3      http://reviews.bestbuy.com/3545/5620406/review...   \n",
              "4      http://reviews.bestbuy.com/3545/5620406/review...   \n",
              "...                                                  ...   \n",
              "34655  http://www.amazon.com/Amazon-PowerFast-Adapter...   \n",
              "34656  http://www.amazon.com/Amazon-PowerFast-Adapter...   \n",
              "34657  http://www.amazon.com/Amazon-PowerFast-Adapter...   \n",
              "34658  http://www.amazon.com/Amazon-PowerFast-Adapter...   \n",
              "34659  http://www.amazon.com/Amazon-PowerFast-Adapter...   \n",
              "\n",
              "                                            reviews.text  \\\n",
              "0      This product so far has not disappointed. My c...   \n",
              "1      great for beginner or experienced person. Boug...   \n",
              "2      Inexpensive tablet for him to use and learn on...   \n",
              "3      I've had my Fire HD 8 two weeks now and I love...   \n",
              "4      I bought this for my grand daughter when she c...   \n",
              "...                                                  ...   \n",
              "34655  This is not appreciably faster than any other ...   \n",
              "34656  Amazon should include this charger with the Ki...   \n",
              "34657  Love my Kindle Fire but I am really disappoint...   \n",
              "34658  I was surprised to find it did not come with a...   \n",
              "34659  to spite the fact that i have nothing but good...   \n",
              "\n",
              "                                           reviews.title reviews.userCity  \\\n",
              "0                                                 Kindle              NaN   \n",
              "1                                              very fast              NaN   \n",
              "2                Beginner tablet for our 9 year old son.              NaN   \n",
              "3                                                Good!!!              NaN   \n",
              "4                              Fantastic Tablet for kids              NaN   \n",
              "...                                                  ...              ...   \n",
              "34655  Not appreciably faster than any other 1.8A cha...              NaN   \n",
              "34656                                 Should be included              NaN   \n",
              "34657                              Disappointing Charger              NaN   \n",
              "34658                                Not worth the money              NaN   \n",
              "34659                              as with everyone else              NaN   \n",
              "\n",
              "      reviews.userProvince  reviews.username  sentiment  \n",
              "0                      NaN           Adapter   Positive  \n",
              "1                      NaN            truman   Positive  \n",
              "2                      NaN             DaveZ   Positive  \n",
              "3                      NaN            Shacks   Positive  \n",
              "4                      NaN         explore42   Positive  \n",
              "...                    ...               ...        ...  \n",
              "34655                  NaN              Kris   Negative  \n",
              "34656                  NaN  Jonathan Stewart   Negative  \n",
              "34657                  NaN          J Lawson   Negative  \n",
              "34658                  NaN    Just the Buyer   Negative  \n",
              "34659                  NaN             sandi   Negative  \n",
              "\n",
              "[34626 rows x 22 columns]"
            ],
            "text/html": [
              "\n",
              "  <div id=\"df-237cf7a9-f305-455e-b1ae-4dea580b6ab5\">\n",
              "    <div class=\"colab-df-container\">\n",
              "      <div>\n",
              "<style scoped>\n",
              "    .dataframe tbody tr th:only-of-type {\n",
              "        vertical-align: middle;\n",
              "    }\n",
              "\n",
              "    .dataframe tbody tr th {\n",
              "        vertical-align: top;\n",
              "    }\n",
              "\n",
              "    .dataframe thead th {\n",
              "        text-align: right;\n",
              "    }\n",
              "</style>\n",
              "<table border=\"1\" class=\"dataframe\">\n",
              "  <thead>\n",
              "    <tr style=\"text-align: right;\">\n",
              "      <th></th>\n",
              "      <th>id</th>\n",
              "      <th>name</th>\n",
              "      <th>asins</th>\n",
              "      <th>brand</th>\n",
              "      <th>categories</th>\n",
              "      <th>keys</th>\n",
              "      <th>manufacturer</th>\n",
              "      <th>reviews.date</th>\n",
              "      <th>reviews.dateAdded</th>\n",
              "      <th>reviews.dateSeen</th>\n",
              "      <th>...</th>\n",
              "      <th>reviews.id</th>\n",
              "      <th>reviews.numHelpful</th>\n",
              "      <th>reviews.rating</th>\n",
              "      <th>reviews.sourceURLs</th>\n",
              "      <th>reviews.text</th>\n",
              "      <th>reviews.title</th>\n",
              "      <th>reviews.userCity</th>\n",
              "      <th>reviews.userProvince</th>\n",
              "      <th>reviews.username</th>\n",
              "      <th>sentiment</th>\n",
              "    </tr>\n",
              "  </thead>\n",
              "  <tbody>\n",
              "    <tr>\n",
              "      <th>0</th>\n",
              "      <td>AVqkIhwDv8e3D1O-lebb</td>\n",
              "      <td>All-New Fire HD 8 Tablet, 8 HD Display, Wi-Fi,...</td>\n",
              "      <td>B01AHB9CN2</td>\n",
              "      <td>Amazon</td>\n",
              "      <td>Electronics,iPad &amp; Tablets,All Tablets,Fire Ta...</td>\n",
              "      <td>841667104676,amazon/53004484,amazon/b01ahb9cn2...</td>\n",
              "      <td>Amazon</td>\n",
              "      <td>2017-01-13T00:00:00.000Z</td>\n",
              "      <td>2017-07-03T23:33:15Z</td>\n",
              "      <td>2017-06-07T09:04:00.000Z,2017-04-30T00:45:00.000Z</td>\n",
              "      <td>...</td>\n",
              "      <td>NaN</td>\n",
              "      <td>0.0</td>\n",
              "      <td>5.0</td>\n",
              "      <td>http://reviews.bestbuy.com/3545/5620406/review...</td>\n",
              "      <td>This product so far has not disappointed. My c...</td>\n",
              "      <td>Kindle</td>\n",
              "      <td>NaN</td>\n",
              "      <td>NaN</td>\n",
              "      <td>Adapter</td>\n",
              "      <td>Positive</td>\n",
              "    </tr>\n",
              "    <tr>\n",
              "      <th>1</th>\n",
              "      <td>AVqkIhwDv8e3D1O-lebb</td>\n",
              "      <td>All-New Fire HD 8 Tablet, 8 HD Display, Wi-Fi,...</td>\n",
              "      <td>B01AHB9CN2</td>\n",
              "      <td>Amazon</td>\n",
              "      <td>Electronics,iPad &amp; Tablets,All Tablets,Fire Ta...</td>\n",
              "      <td>841667104676,amazon/53004484,amazon/b01ahb9cn2...</td>\n",
              "      <td>Amazon</td>\n",
              "      <td>2017-01-13T00:00:00.000Z</td>\n",
              "      <td>2017-07-03T23:33:15Z</td>\n",
              "      <td>2017-06-07T09:04:00.000Z,2017-04-30T00:45:00.000Z</td>\n",
              "      <td>...</td>\n",
              "      <td>NaN</td>\n",
              "      <td>0.0</td>\n",
              "      <td>5.0</td>\n",
              "      <td>http://reviews.bestbuy.com/3545/5620406/review...</td>\n",
              "      <td>great for beginner or experienced person. Boug...</td>\n",
              "      <td>very fast</td>\n",
              "      <td>NaN</td>\n",
              "      <td>NaN</td>\n",
              "      <td>truman</td>\n",
              "      <td>Positive</td>\n",
              "    </tr>\n",
              "    <tr>\n",
              "      <th>2</th>\n",
              "      <td>AVqkIhwDv8e3D1O-lebb</td>\n",
              "      <td>All-New Fire HD 8 Tablet, 8 HD Display, Wi-Fi,...</td>\n",
              "      <td>B01AHB9CN2</td>\n",
              "      <td>Amazon</td>\n",
              "      <td>Electronics,iPad &amp; Tablets,All Tablets,Fire Ta...</td>\n",
              "      <td>841667104676,amazon/53004484,amazon/b01ahb9cn2...</td>\n",
              "      <td>Amazon</td>\n",
              "      <td>2017-01-13T00:00:00.000Z</td>\n",
              "      <td>2017-07-03T23:33:15Z</td>\n",
              "      <td>2017-06-07T09:04:00.000Z,2017-04-30T00:45:00.000Z</td>\n",
              "      <td>...</td>\n",
              "      <td>NaN</td>\n",
              "      <td>0.0</td>\n",
              "      <td>5.0</td>\n",
              "      <td>http://reviews.bestbuy.com/3545/5620406/review...</td>\n",
              "      <td>Inexpensive tablet for him to use and learn on...</td>\n",
              "      <td>Beginner tablet for our 9 year old son.</td>\n",
              "      <td>NaN</td>\n",
              "      <td>NaN</td>\n",
              "      <td>DaveZ</td>\n",
              "      <td>Positive</td>\n",
              "    </tr>\n",
              "    <tr>\n",
              "      <th>3</th>\n",
              "      <td>AVqkIhwDv8e3D1O-lebb</td>\n",
              "      <td>All-New Fire HD 8 Tablet, 8 HD Display, Wi-Fi,...</td>\n",
              "      <td>B01AHB9CN2</td>\n",
              "      <td>Amazon</td>\n",
              "      <td>Electronics,iPad &amp; Tablets,All Tablets,Fire Ta...</td>\n",
              "      <td>841667104676,amazon/53004484,amazon/b01ahb9cn2...</td>\n",
              "      <td>Amazon</td>\n",
              "      <td>2017-01-13T00:00:00.000Z</td>\n",
              "      <td>2017-07-03T23:33:15Z</td>\n",
              "      <td>2017-06-07T09:04:00.000Z,2017-04-30T00:45:00.000Z</td>\n",
              "      <td>...</td>\n",
              "      <td>NaN</td>\n",
              "      <td>0.0</td>\n",
              "      <td>4.0</td>\n",
              "      <td>http://reviews.bestbuy.com/3545/5620406/review...</td>\n",
              "      <td>I've had my Fire HD 8 two weeks now and I love...</td>\n",
              "      <td>Good!!!</td>\n",
              "      <td>NaN</td>\n",
              "      <td>NaN</td>\n",
              "      <td>Shacks</td>\n",
              "      <td>Positive</td>\n",
              "    </tr>\n",
              "    <tr>\n",
              "      <th>4</th>\n",
              "      <td>AVqkIhwDv8e3D1O-lebb</td>\n",
              "      <td>All-New Fire HD 8 Tablet, 8 HD Display, Wi-Fi,...</td>\n",
              "      <td>B01AHB9CN2</td>\n",
              "      <td>Amazon</td>\n",
              "      <td>Electronics,iPad &amp; Tablets,All Tablets,Fire Ta...</td>\n",
              "      <td>841667104676,amazon/53004484,amazon/b01ahb9cn2...</td>\n",
              "      <td>Amazon</td>\n",
              "      <td>2017-01-12T00:00:00.000Z</td>\n",
              "      <td>2017-07-03T23:33:15Z</td>\n",
              "      <td>2017-06-07T09:04:00.000Z,2017-04-30T00:45:00.000Z</td>\n",
              "      <td>...</td>\n",
              "      <td>NaN</td>\n",
              "      <td>0.0</td>\n",
              "      <td>5.0</td>\n",
              "      <td>http://reviews.bestbuy.com/3545/5620406/review...</td>\n",
              "      <td>I bought this for my grand daughter when she c...</td>\n",
              "      <td>Fantastic Tablet for kids</td>\n",
              "      <td>NaN</td>\n",
              "      <td>NaN</td>\n",
              "      <td>explore42</td>\n",
              "      <td>Positive</td>\n",
              "    </tr>\n",
              "    <tr>\n",
              "      <th>...</th>\n",
              "      <td>...</td>\n",
              "      <td>...</td>\n",
              "      <td>...</td>\n",
              "      <td>...</td>\n",
              "      <td>...</td>\n",
              "      <td>...</td>\n",
              "      <td>...</td>\n",
              "      <td>...</td>\n",
              "      <td>...</td>\n",
              "      <td>...</td>\n",
              "      <td>...</td>\n",
              "      <td>...</td>\n",
              "      <td>...</td>\n",
              "      <td>...</td>\n",
              "      <td>...</td>\n",
              "      <td>...</td>\n",
              "      <td>...</td>\n",
              "      <td>...</td>\n",
              "      <td>...</td>\n",
              "      <td>...</td>\n",
              "      <td>...</td>\n",
              "    </tr>\n",
              "    <tr>\n",
              "      <th>34655</th>\n",
              "      <td>AVpfiBlyLJeJML43-4Tp</td>\n",
              "      <td>NaN</td>\n",
              "      <td>B006GWO5WK</td>\n",
              "      <td>Amazon</td>\n",
              "      <td>Computers/Tablets &amp; Networking,Tablet &amp; eBook ...</td>\n",
              "      <td>newamazonkindlefirehd9wpowerfastadaptercharger...</td>\n",
              "      <td>Amazon Digital Services, Inc</td>\n",
              "      <td>2012-09-18T00:00:00Z</td>\n",
              "      <td>NaN</td>\n",
              "      <td>2015-08-29T00:00:00Z</td>\n",
              "      <td>...</td>\n",
              "      <td>NaN</td>\n",
              "      <td>NaN</td>\n",
              "      <td>3.0</td>\n",
              "      <td>http://www.amazon.com/Amazon-PowerFast-Adapter...</td>\n",
              "      <td>This is not appreciably faster than any other ...</td>\n",
              "      <td>Not appreciably faster than any other 1.8A cha...</td>\n",
              "      <td>NaN</td>\n",
              "      <td>NaN</td>\n",
              "      <td>Kris</td>\n",
              "      <td>Negative</td>\n",
              "    </tr>\n",
              "    <tr>\n",
              "      <th>34656</th>\n",
              "      <td>AVpfiBlyLJeJML43-4Tp</td>\n",
              "      <td>NaN</td>\n",
              "      <td>B006GWO5WK</td>\n",
              "      <td>Amazon</td>\n",
              "      <td>Computers/Tablets &amp; Networking,Tablet &amp; eBook ...</td>\n",
              "      <td>newamazonkindlefirehd9wpowerfastadaptercharger...</td>\n",
              "      <td>Amazon Digital Services, Inc</td>\n",
              "      <td>2012-11-21T00:00:00Z</td>\n",
              "      <td>NaN</td>\n",
              "      <td>2015-09-02T00:00:00Z</td>\n",
              "      <td>...</td>\n",
              "      <td>NaN</td>\n",
              "      <td>NaN</td>\n",
              "      <td>1.0</td>\n",
              "      <td>http://www.amazon.com/Amazon-PowerFast-Adapter...</td>\n",
              "      <td>Amazon should include this charger with the Ki...</td>\n",
              "      <td>Should be included</td>\n",
              "      <td>NaN</td>\n",
              "      <td>NaN</td>\n",
              "      <td>Jonathan Stewart</td>\n",
              "      <td>Negative</td>\n",
              "    </tr>\n",
              "    <tr>\n",
              "      <th>34657</th>\n",
              "      <td>AVpfiBlyLJeJML43-4Tp</td>\n",
              "      <td>NaN</td>\n",
              "      <td>B006GWO5WK</td>\n",
              "      <td>Amazon</td>\n",
              "      <td>Computers/Tablets &amp; Networking,Tablet &amp; eBook ...</td>\n",
              "      <td>newamazonkindlefirehd9wpowerfastadaptercharger...</td>\n",
              "      <td>Amazon Digital Services, Inc</td>\n",
              "      <td>2012-10-19T00:00:00Z</td>\n",
              "      <td>NaN</td>\n",
              "      <td>2015-09-04T00:00:00Z</td>\n",
              "      <td>...</td>\n",
              "      <td>NaN</td>\n",
              "      <td>NaN</td>\n",
              "      <td>1.0</td>\n",
              "      <td>http://www.amazon.com/Amazon-PowerFast-Adapter...</td>\n",
              "      <td>Love my Kindle Fire but I am really disappoint...</td>\n",
              "      <td>Disappointing Charger</td>\n",
              "      <td>NaN</td>\n",
              "      <td>NaN</td>\n",
              "      <td>J Lawson</td>\n",
              "      <td>Negative</td>\n",
              "    </tr>\n",
              "    <tr>\n",
              "      <th>34658</th>\n",
              "      <td>AVpfiBlyLJeJML43-4Tp</td>\n",
              "      <td>NaN</td>\n",
              "      <td>B006GWO5WK</td>\n",
              "      <td>Amazon</td>\n",
              "      <td>Computers/Tablets &amp; Networking,Tablet &amp; eBook ...</td>\n",
              "      <td>newamazonkindlefirehd9wpowerfastadaptercharger...</td>\n",
              "      <td>Amazon Digital Services, Inc</td>\n",
              "      <td>2012-10-31T00:00:00Z</td>\n",
              "      <td>NaN</td>\n",
              "      <td>2015-09-01T00:00:00Z</td>\n",
              "      <td>...</td>\n",
              "      <td>NaN</td>\n",
              "      <td>NaN</td>\n",
              "      <td>1.0</td>\n",
              "      <td>http://www.amazon.com/Amazon-PowerFast-Adapter...</td>\n",
              "      <td>I was surprised to find it did not come with a...</td>\n",
              "      <td>Not worth the money</td>\n",
              "      <td>NaN</td>\n",
              "      <td>NaN</td>\n",
              "      <td>Just the Buyer</td>\n",
              "      <td>Negative</td>\n",
              "    </tr>\n",
              "    <tr>\n",
              "      <th>34659</th>\n",
              "      <td>AVpfiBlyLJeJML43-4Tp</td>\n",
              "      <td>NaN</td>\n",
              "      <td>B006GWO5WK</td>\n",
              "      <td>Amazon</td>\n",
              "      <td>Computers/Tablets &amp; Networking,Tablet &amp; eBook ...</td>\n",
              "      <td>newamazonkindlefirehd9wpowerfastadaptercharger...</td>\n",
              "      <td>Amazon Digital Services, Inc</td>\n",
              "      <td>2012-12-23T00:00:00Z</td>\n",
              "      <td>NaN</td>\n",
              "      <td>2015-11-01T00:00:00Z</td>\n",
              "      <td>...</td>\n",
              "      <td>NaN</td>\n",
              "      <td>NaN</td>\n",
              "      <td>1.0</td>\n",
              "      <td>http://www.amazon.com/Amazon-PowerFast-Adapter...</td>\n",
              "      <td>to spite the fact that i have nothing but good...</td>\n",
              "      <td>as with everyone else</td>\n",
              "      <td>NaN</td>\n",
              "      <td>NaN</td>\n",
              "      <td>sandi</td>\n",
              "      <td>Negative</td>\n",
              "    </tr>\n",
              "  </tbody>\n",
              "</table>\n",
              "<p>34626 rows × 22 columns</p>\n",
              "</div>\n",
              "      <button class=\"colab-df-convert\" onclick=\"convertToInteractive('df-237cf7a9-f305-455e-b1ae-4dea580b6ab5')\"\n",
              "              title=\"Convert this dataframe to an interactive table.\"\n",
              "              style=\"display:none;\">\n",
              "        \n",
              "  <svg xmlns=\"http://www.w3.org/2000/svg\" height=\"24px\"viewBox=\"0 0 24 24\"\n",
              "       width=\"24px\">\n",
              "    <path d=\"M0 0h24v24H0V0z\" fill=\"none\"/>\n",
              "    <path d=\"M18.56 5.44l.94 2.06.94-2.06 2.06-.94-2.06-.94-.94-2.06-.94 2.06-2.06.94zm-11 1L8.5 8.5l.94-2.06 2.06-.94-2.06-.94L8.5 2.5l-.94 2.06-2.06.94zm10 10l.94 2.06.94-2.06 2.06-.94-2.06-.94-.94-2.06-.94 2.06-2.06.94z\"/><path d=\"M17.41 7.96l-1.37-1.37c-.4-.4-.92-.59-1.43-.59-.52 0-1.04.2-1.43.59L10.3 9.45l-7.72 7.72c-.78.78-.78 2.05 0 2.83L4 21.41c.39.39.9.59 1.41.59.51 0 1.02-.2 1.41-.59l7.78-7.78 2.81-2.81c.8-.78.8-2.07 0-2.86zM5.41 20L4 18.59l7.72-7.72 1.47 1.35L5.41 20z\"/>\n",
              "  </svg>\n",
              "      </button>\n",
              "      \n",
              "  <style>\n",
              "    .colab-df-container {\n",
              "      display:flex;\n",
              "      flex-wrap:wrap;\n",
              "      gap: 12px;\n",
              "    }\n",
              "\n",
              "    .colab-df-convert {\n",
              "      background-color: #E8F0FE;\n",
              "      border: none;\n",
              "      border-radius: 50%;\n",
              "      cursor: pointer;\n",
              "      display: none;\n",
              "      fill: #1967D2;\n",
              "      height: 32px;\n",
              "      padding: 0 0 0 0;\n",
              "      width: 32px;\n",
              "    }\n",
              "\n",
              "    .colab-df-convert:hover {\n",
              "      background-color: #E2EBFA;\n",
              "      box-shadow: 0px 1px 2px rgba(60, 64, 67, 0.3), 0px 1px 3px 1px rgba(60, 64, 67, 0.15);\n",
              "      fill: #174EA6;\n",
              "    }\n",
              "\n",
              "    [theme=dark] .colab-df-convert {\n",
              "      background-color: #3B4455;\n",
              "      fill: #D2E3FC;\n",
              "    }\n",
              "\n",
              "    [theme=dark] .colab-df-convert:hover {\n",
              "      background-color: #434B5C;\n",
              "      box-shadow: 0px 1px 3px 1px rgba(0, 0, 0, 0.15);\n",
              "      filter: drop-shadow(0px 1px 2px rgba(0, 0, 0, 0.3));\n",
              "      fill: #FFFFFF;\n",
              "    }\n",
              "  </style>\n",
              "\n",
              "      <script>\n",
              "        const buttonEl =\n",
              "          document.querySelector('#df-237cf7a9-f305-455e-b1ae-4dea580b6ab5 button.colab-df-convert');\n",
              "        buttonEl.style.display =\n",
              "          google.colab.kernel.accessAllowed ? 'block' : 'none';\n",
              "\n",
              "        async function convertToInteractive(key) {\n",
              "          const element = document.querySelector('#df-237cf7a9-f305-455e-b1ae-4dea580b6ab5');\n",
              "          const dataTable =\n",
              "            await google.colab.kernel.invokeFunction('convertToInteractive',\n",
              "                                                     [key], {});\n",
              "          if (!dataTable) return;\n",
              "\n",
              "          const docLinkHtml = 'Like what you see? Visit the ' +\n",
              "            '<a target=\"_blank\" href=https://colab.research.google.com/notebooks/data_table.ipynb>data table notebook</a>'\n",
              "            + ' to learn more about interactive tables.';\n",
              "          element.innerHTML = '';\n",
              "          dataTable['output_type'] = 'display_data';\n",
              "          await google.colab.output.renderOutput(dataTable, element);\n",
              "          const docLink = document.createElement('div');\n",
              "          docLink.innerHTML = docLinkHtml;\n",
              "          element.appendChild(docLink);\n",
              "        }\n",
              "      </script>\n",
              "    </div>\n",
              "  </div>\n",
              "  "
            ]
          },
          "metadata": {},
          "execution_count": 9
        }
      ]
    },
    {
      "cell_type": "markdown",
      "source": [
        "I'll use a bar plot to visualize the amount of positive and negative reviews"
      ],
      "metadata": {
        "id": "1LLtnTj8n5Ps"
      }
    },
    {
      "cell_type": "code",
      "source": [
        "def senti_per(df):\n",
        "  pos = df[df['sentiment']=='Positive']\n",
        "  pospercent = round((pos.shape[0]/df.shape[0])*100, 1)\n",
        "  print(f\"Percentage of positive reviews = {pospercent}%\")\n",
        "\n",
        "  neg = df[df['sentiment']=='Negative']\n",
        "  negpercent = round((neg.shape[0]/df.shape[0])*100, 1)\n",
        "  print(f\"Percentage of negative reviews = {negpercent}%\")\n",
        "\n",
        "senti_per(df)\n",
        "\n",
        "plt.title('Sentiment Analysis')\n",
        "plt.xlabel('Sentiment')\n",
        "plt.ylabel('Counts')\n",
        "df['sentiment'].value_counts().plot(kind='bar')\n",
        "plt.show()"
      ],
      "metadata": {
        "colab": {
          "base_uri": "https://localhost:8080/",
          "height": 366
        },
        "id": "GuU2CT15CIKw",
        "outputId": "35e3ed15-eaf3-4a5d-8c08-f586dd3cb7b6"
      },
      "execution_count": 10,
      "outputs": [
        {
          "output_type": "stream",
          "name": "stdout",
          "text": [
            "Percentage of positive reviews = 93.3%\n",
            "Percentage of negative reviews = 6.7%\n"
          ]
        },
        {
          "output_type": "display_data",
          "data": {
            "text/plain": [
              "<Figure size 432x288 with 1 Axes>"
            ],
            "image/png": "[encoded data removed]"
          },
          "metadata": {
            "needs_background": "light"
          }
        }
      ]
    },
    {
      "cell_type": "markdown",
      "source": [
        "The dataset is highly imbalanced and will affect our model. \n",
        "\n",
        "Firstly, as the imbalance is towards positive reviews, I will decrease the size of such reviews by only considering 5 star reviews.\n",
        "\n",
        "Secondly, I will merge this dataset with negative reviews from another 2 datasets provided."
      ],
      "metadata": {
        "id": "i0_8VX04Us9f"
      }
    },
    {
      "cell_type": "code",
      "source": [
        "df = df.drop(df[df['reviews.rating'] == 4.0].index)"
      ],
      "metadata": {
        "id": "wyBKOiNFnQlH"
      },
      "execution_count": 11,
      "outputs": []
    },
    {
      "cell_type": "code",
      "source": [
        "df2 = pd.read_csv('MyDrive/Datasets/amazon/amazon2.csv')\n",
        "df3 = pd.read_csv('MyDrive/Datasets/amazon/amazon3.csv')"
      ],
      "metadata": {
        "id": "KIJzd79U05LI"
      },
      "execution_count": 12,
      "outputs": []
    },
    {
      "cell_type": "markdown",
      "source": [
        "Determine sentiment of the 2 new datasets before merging"
      ],
      "metadata": {
        "id": "-jcofwI53Uv6"
      }
    },
    {
      "cell_type": "code",
      "source": [
        "df2['sentiment'] = df2['reviews.rating'].apply(get_senti)\n",
        "df3['sentiment'] = df3['reviews.rating'].apply(get_senti)"
      ],
      "metadata": {
        "id": "l_O7NpmE3aUn"
      },
      "execution_count": 13,
      "outputs": []
    },
    {
      "cell_type": "markdown",
      "source": [
        "To decrease the imbalance, I will only use negative reviews in both datasets"
      ],
      "metadata": {
        "id": "MccnDKqx4j71"
      }
    },
    {
      "cell_type": "code",
      "source": [
        "df2.drop(df2[df2['sentiment']=='Positive'].index, inplace=True)\n",
        "df3.drop(df3[df3['sentiment']=='Positive'].index, inplace=True)"
      ],
      "metadata": {
        "id": "2nGTO_S14ucC"
      },
      "execution_count": 14,
      "outputs": []
    },
    {
      "cell_type": "code",
      "source": [
        "df.info()"
      ],
      "metadata": {
        "colab": {
          "base_uri": "https://localhost:8080/"
        },
        "id": "Xa4GMhTu15SI",
        "outputId": "5f8030a8-65d1-4170-82b2-efe862b19a01"
      },
      "execution_count": 15,
      "outputs": [
        {
          "output_type": "stream",
          "name": "stdout",
          "text": [
            "<class 'pandas.core.frame.DataFrame'>\n",
            "Int64Index: 26085 entries, 0 to 34659\n",
            "Data columns (total 22 columns):\n",
            " #   Column                Non-Null Count  Dtype  \n",
            "---  ------                --------------  -----  \n",
            " 0   id                    26085 non-null  object \n",
            " 1   name                  20647 non-null  object \n",
            " 2   asins                 26084 non-null  object \n",
            " 3   brand                 26085 non-null  object \n",
            " 4   categories            26085 non-null  object \n",
            " 5   keys                  26085 non-null  object \n",
            " 6   manufacturer          26085 non-null  object \n",
            " 7   reviews.date          26066 non-null  object \n",
            " 8   reviews.dateAdded     17848 non-null  object \n",
            " 9   reviews.dateSeen      26085 non-null  object \n",
            " 10  reviews.didPurchase   1 non-null      object \n",
            " 11  reviews.doRecommend   25597 non-null  object \n",
            " 12  reviews.id            1 non-null      float64\n",
            " 13  reviews.numHelpful    25651 non-null  float64\n",
            " 14  reviews.rating        26085 non-null  float64\n",
            " 15  reviews.sourceURLs    26085 non-null  object \n",
            " 16  reviews.text          26085 non-null  object \n",
            " 17  reviews.title         26080 non-null  object \n",
            " 18  reviews.userCity      0 non-null      float64\n",
            " 19  reviews.userProvince  0 non-null      float64\n",
            " 20  reviews.username      26083 non-null  object \n",
            " 21  sentiment             26085 non-null  object \n",
            "dtypes: float64(5), object(17)\n",
            "memory usage: 4.6+ MB\n"
          ]
        }
      ]
    },
    {
      "cell_type": "code",
      "source": [
        "df2.info()"
      ],
      "metadata": {
        "colab": {
          "base_uri": "https://localhost:8080/"
        },
        "id": "5-odeV8r5Gt6",
        "outputId": "592dd226-41b2-494c-ac9b-5f302e38318b"
      },
      "execution_count": 16,
      "outputs": [
        {
          "output_type": "stream",
          "name": "stdout",
          "text": [
            "<class 'pandas.core.frame.DataFrame'>\n",
            "Int64Index: 2787 entries, 0 to 28318\n",
            "Data columns (total 25 columns):\n",
            " #   Column               Non-Null Count  Dtype  \n",
            "---  ------               --------------  -----  \n",
            " 0   id                   2787 non-null   object \n",
            " 1   dateAdded            2787 non-null   object \n",
            " 2   dateUpdated          2787 non-null   object \n",
            " 3   name                 2787 non-null   object \n",
            " 4   asins                2787 non-null   object \n",
            " 5   brand                2787 non-null   object \n",
            " 6   categories           2787 non-null   object \n",
            " 7   primaryCategories    2787 non-null   object \n",
            " 8   imageURLs            2787 non-null   object \n",
            " 9   keys                 2787 non-null   object \n",
            " 10  manufacturer         2787 non-null   object \n",
            " 11  manufacturerNumber   2787 non-null   object \n",
            " 12  reviews.date         2787 non-null   object \n",
            " 13  reviews.dateSeen     2787 non-null   object \n",
            " 14  reviews.didPurchase  0 non-null      object \n",
            " 15  reviews.doRecommend  1077 non-null   object \n",
            " 16  reviews.id           4 non-null      float64\n",
            " 17  reviews.numHelpful   1087 non-null   float64\n",
            " 18  reviews.rating       2787 non-null   int64  \n",
            " 19  reviews.sourceURLs   2787 non-null   object \n",
            " 20  reviews.text         2787 non-null   object \n",
            " 21  reviews.title        2787 non-null   object \n",
            " 22  reviews.username     2787 non-null   object \n",
            " 23  sourceURLs           2787 non-null   object \n",
            " 24  sentiment            2787 non-null   object \n",
            "dtypes: float64(2), int64(1), object(22)\n",
            "memory usage: 566.1+ KB\n"
          ]
        }
      ]
    },
    {
      "cell_type": "code",
      "source": [
        "df3.info()"
      ],
      "metadata": {
        "colab": {
          "base_uri": "https://localhost:8080/"
        },
        "id": "Wlp6TRn-1j_K",
        "outputId": "9d63daee-6a0c-4afc-9e29-6101a01e4c52"
      },
      "execution_count": 17,
      "outputs": [
        {
          "output_type": "stream",
          "name": "stdout",
          "text": [
            "<class 'pandas.core.frame.DataFrame'>\n",
            "Int64Index: 314 entries, 0 to 4975\n",
            "Data columns (total 25 columns):\n",
            " #   Column               Non-Null Count  Dtype  \n",
            "---  ------               --------------  -----  \n",
            " 0   id                   314 non-null    object \n",
            " 1   dateAdded            314 non-null    object \n",
            " 2   dateUpdated          314 non-null    object \n",
            " 3   name                 314 non-null    object \n",
            " 4   asins                314 non-null    object \n",
            " 5   brand                314 non-null    object \n",
            " 6   categories           314 non-null    object \n",
            " 7   primaryCategories    314 non-null    object \n",
            " 8   imageURLs            314 non-null    object \n",
            " 9   keys                 314 non-null    object \n",
            " 10  manufacturer         314 non-null    object \n",
            " 11  manufacturerNumber   314 non-null    object \n",
            " 12  reviews.date         314 non-null    object \n",
            " 13  reviews.dateAdded    47 non-null     object \n",
            " 14  reviews.dateSeen     314 non-null    object \n",
            " 15  reviews.doRecommend  314 non-null    bool   \n",
            " 16  reviews.id           2 non-null      float64\n",
            " 17  reviews.numHelpful   314 non-null    int64  \n",
            " 18  reviews.rating       314 non-null    int64  \n",
            " 19  reviews.sourceURLs   314 non-null    object \n",
            " 20  reviews.text         314 non-null    object \n",
            " 21  reviews.title        314 non-null    object \n",
            " 22  reviews.username     314 non-null    object \n",
            " 23  sourceURLs           314 non-null    object \n",
            " 24  sentiment            314 non-null    object \n",
            "dtypes: bool(1), float64(1), int64(2), object(21)\n",
            "memory usage: 61.6+ KB\n"
          ]
        }
      ]
    },
    {
      "cell_type": "markdown",
      "source": [
        "The datasets have different columns. To facilitate merging, I will pick columns that are relevant for the purpose of this analysis\n",
        "\n",
        "They are:\n",
        "- name\n",
        "- brand\n",
        "- categories\n",
        "- manufacturer\n",
        "- reviews.doRecommend\n",
        "- reviews.rating\n",
        "- reviews.text\n",
        "- reviews.title\n",
        "- sentiment"
      ],
      "metadata": {
        "id": "7Gc4mScFk3-M"
      }
    },
    {
      "cell_type": "code",
      "source": [
        "df = df.filter(['name', 'brand', 'categories', 'manufacturer', 'reviews.doRecommend', 'reviews.rating', 'reviews.rating', 'reviews.text',\n",
        "                 'reviews.title', 'sentiment'], axis=1)\n",
        "df.head()"
      ],
      "metadata": {
        "colab": {
          "base_uri": "https://localhost:8080/",
          "height": 424
        },
        "id": "vRTwOT1ikJDT",
        "outputId": "6cfd64a8-6c49-4848-cfdb-55b91042e43b"
      },
      "execution_count": 18,
      "outputs": [
        {
          "output_type": "execute_result",
          "data": {
            "text/plain": [
              "                                                name   brand  \\\n",
              "0  All-New Fire HD 8 Tablet, 8 HD Display, Wi-Fi,...  Amazon   \n",
              "1  All-New Fire HD 8 Tablet, 8 HD Display, Wi-Fi,...  Amazon   \n",
              "2  All-New Fire HD 8 Tablet, 8 HD Display, Wi-Fi,...  Amazon   \n",
              "4  All-New Fire HD 8 Tablet, 8 HD Display, Wi-Fi,...  Amazon   \n",
              "5  All-New Fire HD 8 Tablet, 8 HD Display, Wi-Fi,...  Amazon   \n",
              "\n",
              "                                          categories manufacturer  \\\n",
              "0  Electronics,iPad & Tablets,All Tablets,Fire Ta...       Amazon   \n",
              "1  Electronics,iPad & Tablets,All Tablets,Fire Ta...       Amazon   \n",
              "2  Electronics,iPad & Tablets,All Tablets,Fire Ta...       Amazon   \n",
              "4  Electronics,iPad & Tablets,All Tablets,Fire Ta...       Amazon   \n",
              "5  Electronics,iPad & Tablets,All Tablets,Fire Ta...       Amazon   \n",
              "\n",
              "  reviews.doRecommend  reviews.rating  reviews.rating  \\\n",
              "0                True             5.0             5.0   \n",
              "1                True             5.0             5.0   \n",
              "2                True             5.0             5.0   \n",
              "4                True             5.0             5.0   \n",
              "5                True             5.0             5.0   \n",
              "\n",
              "                                        reviews.text  \\\n",
              "0  This product so far has not disappointed. My c...   \n",
              "1  great for beginner or experienced person. Boug...   \n",
              "2  Inexpensive tablet for him to use and learn on...   \n",
              "4  I bought this for my grand daughter when she c...   \n",
              "5  This amazon fire 8 inch tablet is the perfect ...   \n",
              "\n",
              "                             reviews.title sentiment  \n",
              "0                                   Kindle  Positive  \n",
              "1                                very fast  Positive  \n",
              "2  Beginner tablet for our 9 year old son.  Positive  \n",
              "4                Fantastic Tablet for kids  Positive  \n",
              "5                    Just what we expected  Positive  "
            ],
            "text/html": [
              "\n",
              "  <div id=\"df-2f2b9ea3-00d6-4233-ae39-d663257065fb\">\n",
              "    <div class=\"colab-df-container\">\n",
              "      <div>\n",
              "<style scoped>\n",
              "    .dataframe tbody tr th:only-of-type {\n",
              "        vertical-align: middle;\n",
              "    }\n",
              "\n",
              "    .dataframe tbody tr th {\n",
              "        vertical-align: top;\n",
              "    }\n",
              "\n",
              "    .dataframe thead th {\n",
              "        text-align: right;\n",
              "    }\n",
              "</style>\n",
              "<table border=\"1\" class=\"dataframe\">\n",
              "  <thead>\n",
              "    <tr style=\"text-align: right;\">\n",
              "      <th></th>\n",
              "      <th>name</th>\n",
              "      <th>brand</th>\n",
              "      <th>categories</th>\n",
              "      <th>manufacturer</th>\n",
              "      <th>reviews.doRecommend</th>\n",
              "      <th>reviews.rating</th>\n",
              "      <th>reviews.rating</th>\n",
              "      <th>reviews.text</th>\n",
              "      <th>reviews.title</th>\n",
              "      <th>sentiment</th>\n",
              "    </tr>\n",
              "  </thead>\n",
              "  <tbody>\n",
              "    <tr>\n",
              "      <th>0</th>\n",
              "      <td>All-New Fire HD 8 Tablet, 8 HD Display, Wi-Fi,...</td>\n",
              "      <td>Amazon</td>\n",
              "      <td>Electronics,iPad &amp; Tablets,All Tablets,Fire Ta...</td>\n",
              "      <td>Amazon</td>\n",
              "      <td>True</td>\n",
              "      <td>5.0</td>\n",
              "      <td>5.0</td>\n",
              "      <td>This product so far has not disappointed. My c...</td>\n",
              "      <td>Kindle</td>\n",
              "      <td>Positive</td>\n",
              "    </tr>\n",
              "    <tr>\n",
              "      <th>1</th>\n",
              "      <td>All-New Fire HD 8 Tablet, 8 HD Display, Wi-Fi,...</td>\n",
              "      <td>Amazon</td>\n",
              "      <td>Electronics,iPad &amp; Tablets,All Tablets,Fire Ta...</td>\n",
              "      <td>Amazon</td>\n",
              "      <td>True</td>\n",
              "      <td>5.0</td>\n",
              "      <td>5.0</td>\n",
              "      <td>great for beginner or experienced person. Boug...</td>\n",
              "      <td>very fast</td>\n",
              "      <td>Positive</td>\n",
              "    </tr>\n",
              "    <tr>\n",
              "      <th>2</th>\n",
              "      <td>All-New Fire HD 8 Tablet, 8 HD Display, Wi-Fi,...</td>\n",
              "      <td>Amazon</td>\n",
              "      <td>Electronics,iPad &amp; Tablets,All Tablets,Fire Ta...</td>\n",
              "      <td>Amazon</td>\n",
              "      <td>True</td>\n",
              "      <td>5.0</td>\n",
              "      <td>5.0</td>\n",
              "      <td>Inexpensive tablet for him to use and learn on...</td>\n",
              "      <td>Beginner tablet for our 9 year old son.</td>\n",
              "      <td>Positive</td>\n",
              "    </tr>\n",
              "    <tr>\n",
              "      <th>4</th>\n",
              "      <td>All-New Fire HD 8 Tablet, 8 HD Display, Wi-Fi,...</td>\n",
              "      <td>Amazon</td>\n",
              "      <td>Electronics,iPad &amp; Tablets,All Tablets,Fire Ta...</td>\n",
              "      <td>Amazon</td>\n",
              "      <td>True</td>\n",
              "      <td>5.0</td>\n",
              "      <td>5.0</td>\n",
              "      <td>I bought this for my grand daughter when she c...</td>\n",
              "      <td>Fantastic Tablet for kids</td>\n",
              "      <td>Positive</td>\n",
              "    </tr>\n",
              "    <tr>\n",
              "      <th>5</th>\n",
              "      <td>All-New Fire HD 8 Tablet, 8 HD Display, Wi-Fi,...</td>\n",
              "      <td>Amazon</td>\n",
              "      <td>Electronics,iPad &amp; Tablets,All Tablets,Fire Ta...</td>\n",
              "      <td>Amazon</td>\n",
              "      <td>True</td>\n",
              "      <td>5.0</td>\n",
              "      <td>5.0</td>\n",
              "      <td>This amazon fire 8 inch tablet is the perfect ...</td>\n",
              "      <td>Just what we expected</td>\n",
              "      <td>Positive</td>\n",
              "    </tr>\n",
              "  </tbody>\n",
              "</table>\n",
              "</div>\n",
              "      <button class=\"colab-df-convert\" onclick=\"convertToInteractive('df-2f2b9ea3-00d6-4233-ae39-d663257065fb')\"\n",
              "              title=\"Convert this dataframe to an interactive table.\"\n",
              "              style=\"display:none;\">\n",
              "        \n",
              "  <svg xmlns=\"http://www.w3.org/2000/svg\" height=\"24px\"viewBox=\"0 0 24 24\"\n",
              "       width=\"24px\">\n",
              "    <path d=\"M0 0h24v24H0V0z\" fill=\"none\"/>\n",
              "    <path d=\"M18.56 5.44l.94 2.06.94-2.06 2.06-.94-2.06-.94-.94-2.06-.94 2.06-2.06.94zm-11 1L8.5 8.5l.94-2.06 2.06-.94-2.06-.94L8.5 2.5l-.94 2.06-2.06.94zm10 10l.94 2.06.94-2.06 2.06-.94-2.06-.94-.94-2.06-.94 2.06-2.06.94z\"/><path d=\"M17.41 7.96l-1.37-1.37c-.4-.4-.92-.59-1.43-.59-.52 0-1.04.2-1.43.59L10.3 9.45l-7.72 7.72c-.78.78-.78 2.05 0 2.83L4 21.41c.39.39.9.59 1.41.59.51 0 1.02-.2 1.41-.59l7.78-7.78 2.81-2.81c.8-.78.8-2.07 0-2.86zM5.41 20L4 18.59l7.72-7.72 1.47 1.35L5.41 20z\"/>\n",
              "  </svg>\n",
              "      </button>\n",
              "      \n",
              "  <style>\n",
              "    .colab-df-container {\n",
              "      display:flex;\n",
              "      flex-wrap:wrap;\n",
              "      gap: 12px;\n",
              "    }\n",
              "\n",
              "    .colab-df-convert {\n",
              "      background-color: #E8F0FE;\n",
              "      border: none;\n",
              "      border-radius: 50%;\n",
              "      cursor: pointer;\n",
              "      display: none;\n",
              "      fill: #1967D2;\n",
              "      height: 32px;\n",
              "      padding: 0 0 0 0;\n",
              "      width: 32px;\n",
              "    }\n",
              "\n",
              "    .colab-df-convert:hover {\n",
              "      background-color: #E2EBFA;\n",
              "      box-shadow: 0px 1px 2px rgba(60, 64, 67, 0.3), 0px 1px 3px 1px rgba(60, 64, 67, 0.15);\n",
              "      fill: #174EA6;\n",
              "    }\n",
              "\n",
              "    [theme=dark] .colab-df-convert {\n",
              "      background-color: #3B4455;\n",
              "      fill: #D2E3FC;\n",
              "    }\n",
              "\n",
              "    [theme=dark] .colab-df-convert:hover {\n",
              "      background-color: #434B5C;\n",
              "      box-shadow: 0px 1px 3px 1px rgba(0, 0, 0, 0.15);\n",
              "      filter: drop-shadow(0px 1px 2px rgba(0, 0, 0, 0.3));\n",
              "      fill: #FFFFFF;\n",
              "    }\n",
              "  </style>\n",
              "\n",
              "      <script>\n",
              "        const buttonEl =\n",
              "          document.querySelector('#df-2f2b9ea3-00d6-4233-ae39-d663257065fb button.colab-df-convert');\n",
              "        buttonEl.style.display =\n",
              "          google.colab.kernel.accessAllowed ? 'block' : 'none';\n",
              "\n",
              "        async function convertToInteractive(key) {\n",
              "          const element = document.querySelector('#df-2f2b9ea3-00d6-4233-ae39-d663257065fb');\n",
              "          const dataTable =\n",
              "            await google.colab.kernel.invokeFunction('convertToInteractive',\n",
              "                                                     [key], {});\n",
              "          if (!dataTable) return;\n",
              "\n",
              "          const docLinkHtml = 'Like what you see? Visit the ' +\n",
              "            '<a target=\"_blank\" href=https://colab.research.google.com/notebooks/data_table.ipynb>data table notebook</a>'\n",
              "            + ' to learn more about interactive tables.';\n",
              "          element.innerHTML = '';\n",
              "          dataTable['output_type'] = 'display_data';\n",
              "          await google.colab.output.renderOutput(dataTable, element);\n",
              "          const docLink = document.createElement('div');\n",
              "          docLink.innerHTML = docLinkHtml;\n",
              "          element.appendChild(docLink);\n",
              "        }\n",
              "      </script>\n",
              "    </div>\n",
              "  </div>\n",
              "  "
            ]
          },
          "metadata": {},
          "execution_count": 18
        }
      ]
    },
    {
      "cell_type": "code",
      "source": [
        "df2 = df2.filter(['name', 'brand', 'categories', 'manufacturer', 'reviews.doRecommend', 'reviews.rating', 'reviews.rating', 'reviews.text',\n",
        "                 'reviews.title', 'sentiment'], axis=1)\n",
        "df3 = df3.filter(['name', 'brand', 'categories', 'manufacturer', 'reviews.doRecommend', 'reviews.rating', 'reviews.rating', 'reviews.text',\n",
        "                 'reviews.title', 'sentiment'], axis=1)"
      ],
      "metadata": {
        "id": "foXsDCTG2CZc"
      },
      "execution_count": 19,
      "outputs": []
    },
    {
      "cell_type": "code",
      "source": [
        "data = pd.concat([df, df2, df3])\n",
        "# drop duplicates\n",
        "data.drop_duplicates(inplace=True, ignore_index=True)\n",
        "data.reset_index(inplace=True)"
      ],
      "metadata": {
        "id": "qWBSMAa832xu"
      },
      "execution_count": 20,
      "outputs": []
    },
    {
      "cell_type": "code",
      "source": [
        "senti_per(data)\n",
        "\n",
        "plt.title('Sentiment Analysis')\n",
        "plt.xlabel('Sentiment')\n",
        "plt.ylabel('Counts')\n",
        "data['sentiment'].value_counts().plot(kind='bar')\n",
        "plt.show()"
      ],
      "metadata": {
        "colab": {
          "base_uri": "https://localhost:8080/",
          "height": 366
        },
        "id": "7_qrhSyz5eKG",
        "outputId": "fe8f4d7f-97ad-415e-c3ff-a9f675c6c8f4"
      },
      "execution_count": 21,
      "outputs": [
        {
          "output_type": "stream",
          "name": "stdout",
          "text": [
            "Percentage of positive reviews = 81.7%\n",
            "Percentage of negative reviews = 18.3%\n"
          ]
        },
        {
          "output_type": "display_data",
          "data": {
            "text/plain": [
              "<Figure size 432x288 with 1 Axes>"
            ],
            "image/png": "[encoded data removed]"
          },
          "metadata": {
            "needs_background": "light"
          }
        }
      ]
    },
    {
      "cell_type": "markdown",
      "source": [
        "With all the reviews, I will proceed to clean the data by\n",
        "- converting everything to lowercase\n",
        "- removing punctuations\n",
        "- removing stopwords\n",
        "\n",
        "I will store them in a new column 'reviews.clean'"
      ],
      "metadata": {
        "id": "8xTVIVeImNqH"
      }
    },
    {
      "cell_type": "code",
      "source": [
        "import re"
      ],
      "metadata": {
        "id": "UcetPJEwnJfm"
      },
      "execution_count": 22,
      "outputs": []
    },
    {
      "cell_type": "code",
      "source": [
        "nltk.download('punkt')"
      ],
      "metadata": {
        "colab": {
          "base_uri": "https://localhost:8080/"
        },
        "id": "SChF7Ty2skGE",
        "outputId": "199aa6e8-f250-4b67-bd8d-b5f6433aa8ac"
      },
      "execution_count": 23,
      "outputs": [
        {
          "output_type": "stream",
          "name": "stderr",
          "text": [
            "[nltk_data] Downloading package punkt to /root/nltk_data...\n",
            "[nltk_data]   Unzipping tokenizers/punkt.zip.\n"
          ]
        },
        {
          "output_type": "execute_result",
          "data": {
            "text/plain": [
              "True"
            ]
          },
          "metadata": {},
          "execution_count": 23
        }
      ]
    },
    {
      "cell_type": "code",
      "source": [
        "def contractions(text):\n",
        "  text = re.sub(r\"won't\", \"will not\", text)\n",
        "  text = re.sub(r\"wouldn't\", \"would not\", text)\n",
        "  text = re.sub(r\"couldn't\", \"could not\", text)\n",
        "  text = re.sub(r\"\\'d\", \"would\", text)\n",
        "  text = re.sub(r\"can\\'t\", \"can not\", text)\n",
        "  text = re.sub(r\"n\\'t\", \" not\", text)\n",
        "  text = re.sub(r\"\\'re\", \" are\", text)\n",
        "  text = re.sub(r\"\\'s\", \" is\", text)\n",
        "  text = re.sub(r\"\\'ll\", \" will\", text)\n",
        "  text = re.sub(r\"\\'t\", \" not\", text)\n",
        "  text = re.sub(r\"\\'ve\", \" have\", text)\n",
        "  text = re.sub(r\"\\'m\", \" am\", text)\n",
        "  return text\n",
        "\n",
        "def clean_text(text):\n",
        "  text = text.lower()\n",
        "  text = contractions(text)\n",
        "  text = re.sub(r'[^\\w\\s]', '', text)\n",
        "  text = re.sub(r'[^A-Za-z]+', ' ', text)\n",
        "  return text"
      ],
      "metadata": {
        "id": "NwoE_9C3mHfz"
      },
      "execution_count": 24,
      "outputs": []
    },
    {
      "cell_type": "code",
      "source": [
        "data['reviews.clean'] = data['reviews.text']\n",
        "data['reviews.clean'] = data['reviews.clean'].apply(str)\n",
        "data['reviews.clean'] = data['reviews.clean'].apply(clean_text)"
      ],
      "metadata": {
        "id": "wsUFm_cHsc-a"
      },
      "execution_count": 33,
      "outputs": []
    },
    {
      "cell_type": "code",
      "source": [
        "data"
      ],
      "metadata": {
        "colab": {
          "base_uri": "https://localhost:8080/",
          "height": 1000
        },
        "id": "PAC76jsUsuDE",
        "outputId": "0f7b34ca-ba04-4456-c97c-79efcbbd6e81"
      },
      "execution_count": null,
      "outputs": [
        {
          "output_type": "execute_result",
          "data": {
            "text/plain": [
              "       index                                               name   brand  \\\n",
              "0          0  All-New Fire HD 8 Tablet, 8 HD Display, Wi-Fi,...  Amazon   \n",
              "1          1  All-New Fire HD 8 Tablet, 8 HD Display, Wi-Fi,...  Amazon   \n",
              "2          2  All-New Fire HD 8 Tablet, 8 HD Display, Wi-Fi,...  Amazon   \n",
              "3          3  All-New Fire HD 8 Tablet, 8 HD Display, Wi-Fi,...  Amazon   \n",
              "4          4  All-New Fire HD 8 Tablet, 8 HD Display, Wi-Fi,...  Amazon   \n",
              "...      ...                                                ...     ...   \n",
              "29077  29077  Fire Tablet with Alexa, 7\" Display, 16 GB, Mag...  Amazon   \n",
              "29078  29078  Fire Tablet with Alexa, 7\" Display, 16 GB, Mag...  Amazon   \n",
              "29079  29079  Fire Tablet with Alexa, 7\" Display, 16 GB, Mag...  Amazon   \n",
              "29080  29080  Fire Tablet with Alexa, 7\" Display, 16 GB, Mag...  Amazon   \n",
              "29081  29081  Fire Tablet with Alexa, 7\" Display, 16 GB, Mag...  Amazon   \n",
              "\n",
              "                                              categories manufacturer  \\\n",
              "0      Electronics,iPad & Tablets,All Tablets,Fire Ta...       Amazon   \n",
              "1      Electronics,iPad & Tablets,All Tablets,Fire Ta...       Amazon   \n",
              "2      Electronics,iPad & Tablets,All Tablets,Fire Ta...       Amazon   \n",
              "3      Electronics,iPad & Tablets,All Tablets,Fire Ta...       Amazon   \n",
              "4      Electronics,iPad & Tablets,All Tablets,Fire Ta...       Amazon   \n",
              "...                                                  ...          ...   \n",
              "29077  Tablets,Fire Tablets,Electronics,iPad & Tablet...       Amazon   \n",
              "29078  Tablets,Fire Tablets,Electronics,iPad & Tablet...       Amazon   \n",
              "29079  Tablets,Fire Tablets,Electronics,iPad & Tablet...       Amazon   \n",
              "29080  Tablets,Fire Tablets,Electronics,iPad & Tablet...       Amazon   \n",
              "29081  Tablets,Fire Tablets,Electronics,iPad & Tablet...       Amazon   \n",
              "\n",
              "      reviews.doRecommend  reviews.rating  reviews.rating  \\\n",
              "0                    True             5.0             5.0   \n",
              "1                    True             5.0             5.0   \n",
              "2                    True             5.0             5.0   \n",
              "3                    True             5.0             5.0   \n",
              "4                    True             5.0             5.0   \n",
              "...                   ...             ...             ...   \n",
              "29077               False             2.0             2.0   \n",
              "29078                True             3.0             3.0   \n",
              "29079               False             1.0             1.0   \n",
              "29080               False             2.0             2.0   \n",
              "29081                True             3.0             3.0   \n",
              "\n",
              "                                            reviews.text  \\\n",
              "0      This product so far has not disappointed. My c...   \n",
              "1      great for beginner or experienced person. Boug...   \n",
              "2      Inexpensive tablet for him to use and learn on...   \n",
              "3      I bought this for my grand daughter when she c...   \n",
              "4      This amazon fire 8 inch tablet is the perfect ...   \n",
              "...                                                  ...   \n",
              "29077  The battery is having more and more trouble ho...   \n",
              "29078  My daughter has had this tablet for almost 2 m...   \n",
              "29079  Very cheap and was not impressed at all never ...   \n",
              "29080  Hard to use, Lots of ads, and Randomly closes ...   \n",
              "29081  I wish it has some more of the apps from the p...   \n",
              "\n",
              "                                  reviews.title sentiment  \\\n",
              "0                                        Kindle  Positive   \n",
              "1                                     very fast  Positive   \n",
              "2       Beginner tablet for our 9 year old son.  Positive   \n",
              "3                     Fantastic Tablet for kids  Positive   \n",
              "4                         Just what we expected  Positive   \n",
              "...                                         ...       ...   \n",
              "29077  The size is great for taking on the road  Negative   \n",
              "29078                   Great tablet for child.  Negative   \n",
              "29079                                  Not good  Negative   \n",
              "29080                            Not a huge fan  Negative   \n",
              "29081                 Fits perfectly in my hand  Negative   \n",
              "\n",
              "                                           reviews.clean  \n",
              "0      this product so far has not disappointed my ch...  \n",
              "1      great for beginner or experienced person bough...  \n",
              "2      inexpensive tablet for him to use and learn on...  \n",
              "3      i bought this for my grand daughter when she c...  \n",
              "4      this amazon fire inch tablet is the perfect si...  \n",
              "...                                                  ...  \n",
              "29077  the battery is having more and more trouble ho...  \n",
              "29078  my daughter has had this tablet for almost mon...  \n",
              "29079  very cheap and was not impressed at all never ...  \n",
              "29080   hard to use lots of ads and randomly closes apps  \n",
              "29081  i wish it has some more of the apps from the p...  \n",
              "\n",
              "[29082 rows x 12 columns]"
            ],
            "text/html": [
              "\n",
              "  <div id=\"df-151f023b-5193-484c-8b19-8436eb1dea79\">\n",
              "    <div class=\"colab-df-container\">\n",
              "      <div>\n",
              "<style scoped>\n",
              "    .dataframe tbody tr th:only-of-type {\n",
              "        vertical-align: middle;\n",
              "    }\n",
              "\n",
              "    .dataframe tbody tr th {\n",
              "        vertical-align: top;\n",
              "    }\n",
              "\n",
              "    .dataframe thead th {\n",
              "        text-align: right;\n",
              "    }\n",
              "</style>\n",
              "<table border=\"1\" class=\"dataframe\">\n",
              "  <thead>\n",
              "    <tr style=\"text-align: right;\">\n",
              "      <th></th>\n",
              "      <th>index</th>\n",
              "      <th>name</th>\n",
              "      <th>brand</th>\n",
              "      <th>categories</th>\n",
              "      <th>manufacturer</th>\n",
              "      <th>reviews.doRecommend</th>\n",
              "      <th>reviews.rating</th>\n",
              "      <th>reviews.rating</th>\n",
              "      <th>reviews.text</th>\n",
              "      <th>reviews.title</th>\n",
              "      <th>sentiment</th>\n",
              "      <th>reviews.clean</th>\n",
              "    </tr>\n",
              "  </thead>\n",
              "  <tbody>\n",
              "    <tr>\n",
              "      <th>0</th>\n",
              "      <td>0</td>\n",
              "      <td>All-New Fire HD 8 Tablet, 8 HD Display, Wi-Fi,...</td>\n",
              "      <td>Amazon</td>\n",
              "      <td>Electronics,iPad &amp; Tablets,All Tablets,Fire Ta...</td>\n",
              "      <td>Amazon</td>\n",
              "      <td>True</td>\n",
              "      <td>5.0</td>\n",
              "      <td>5.0</td>\n",
              "      <td>This product so far has not disappointed. My c...</td>\n",
              "      <td>Kindle</td>\n",
              "      <td>Positive</td>\n",
              "      <td>this product so far has not disappointed my ch...</td>\n",
              "    </tr>\n",
              "    <tr>\n",
              "      <th>1</th>\n",
              "      <td>1</td>\n",
              "      <td>All-New Fire HD 8 Tablet, 8 HD Display, Wi-Fi,...</td>\n",
              "      <td>Amazon</td>\n",
              "      <td>Electronics,iPad &amp; Tablets,All Tablets,Fire Ta...</td>\n",
              "      <td>Amazon</td>\n",
              "      <td>True</td>\n",
              "      <td>5.0</td>\n",
              "      <td>5.0</td>\n",
              "      <td>great for beginner or experienced person. Boug...</td>\n",
              "      <td>very fast</td>\n",
              "      <td>Positive</td>\n",
              "      <td>great for beginner or experienced person bough...</td>\n",
              "    </tr>\n",
              "    <tr>\n",
              "      <th>2</th>\n",
              "      <td>2</td>\n",
              "      <td>All-New Fire HD 8 Tablet, 8 HD Display, Wi-Fi,...</td>\n",
              "      <td>Amazon</td>\n",
              "      <td>Electronics,iPad &amp; Tablets,All Tablets,Fire Ta...</td>\n",
              "      <td>Amazon</td>\n",
              "      <td>True</td>\n",
              "      <td>5.0</td>\n",
              "      <td>5.0</td>\n",
              "      <td>Inexpensive tablet for him to use and learn on...</td>\n",
              "      <td>Beginner tablet for our 9 year old son.</td>\n",
              "      <td>Positive</td>\n",
              "      <td>inexpensive tablet for him to use and learn on...</td>\n",
              "    </tr>\n",
              "    <tr>\n",
              "      <th>3</th>\n",
              "      <td>3</td>\n",
              "      <td>All-New Fire HD 8 Tablet, 8 HD Display, Wi-Fi,...</td>\n",
              "      <td>Amazon</td>\n",
              "      <td>Electronics,iPad &amp; Tablets,All Tablets,Fire Ta...</td>\n",
              "      <td>Amazon</td>\n",
              "      <td>True</td>\n",
              "      <td>5.0</td>\n",
              "      <td>5.0</td>\n",
              "      <td>I bought this for my grand daughter when she c...</td>\n",
              "      <td>Fantastic Tablet for kids</td>\n",
              "      <td>Positive</td>\n",
              "      <td>i bought this for my grand daughter when she c...</td>\n",
              "    </tr>\n",
              "    <tr>\n",
              "      <th>4</th>\n",
              "      <td>4</td>\n",
              "      <td>All-New Fire HD 8 Tablet, 8 HD Display, Wi-Fi,...</td>\n",
              "      <td>Amazon</td>\n",
              "      <td>Electronics,iPad &amp; Tablets,All Tablets,Fire Ta...</td>\n",
              "      <td>Amazon</td>\n",
              "      <td>True</td>\n",
              "      <td>5.0</td>\n",
              "      <td>5.0</td>\n",
              "      <td>This amazon fire 8 inch tablet is the perfect ...</td>\n",
              "      <td>Just what we expected</td>\n",
              "      <td>Positive</td>\n",
              "      <td>this amazon fire inch tablet is the perfect si...</td>\n",
              "    </tr>\n",
              "    <tr>\n",
              "      <th>...</th>\n",
              "      <td>...</td>\n",
              "      <td>...</td>\n",
              "      <td>...</td>\n",
              "      <td>...</td>\n",
              "      <td>...</td>\n",
              "      <td>...</td>\n",
              "      <td>...</td>\n",
              "      <td>...</td>\n",
              "      <td>...</td>\n",
              "      <td>...</td>\n",
              "      <td>...</td>\n",
              "      <td>...</td>\n",
              "    </tr>\n",
              "    <tr>\n",
              "      <th>29077</th>\n",
              "      <td>29077</td>\n",
              "      <td>Fire Tablet with Alexa, 7\" Display, 16 GB, Mag...</td>\n",
              "      <td>Amazon</td>\n",
              "      <td>Tablets,Fire Tablets,Electronics,iPad &amp; Tablet...</td>\n",
              "      <td>Amazon</td>\n",
              "      <td>False</td>\n",
              "      <td>2.0</td>\n",
              "      <td>2.0</td>\n",
              "      <td>The battery is having more and more trouble ho...</td>\n",
              "      <td>The size is great for taking on the road</td>\n",
              "      <td>Negative</td>\n",
              "      <td>the battery is having more and more trouble ho...</td>\n",
              "    </tr>\n",
              "    <tr>\n",
              "      <th>29078</th>\n",
              "      <td>29078</td>\n",
              "      <td>Fire Tablet with Alexa, 7\" Display, 16 GB, Mag...</td>\n",
              "      <td>Amazon</td>\n",
              "      <td>Tablets,Fire Tablets,Electronics,iPad &amp; Tablet...</td>\n",
              "      <td>Amazon</td>\n",
              "      <td>True</td>\n",
              "      <td>3.0</td>\n",
              "      <td>3.0</td>\n",
              "      <td>My daughter has had this tablet for almost 2 m...</td>\n",
              "      <td>Great tablet for child.</td>\n",
              "      <td>Negative</td>\n",
              "      <td>my daughter has had this tablet for almost mon...</td>\n",
              "    </tr>\n",
              "    <tr>\n",
              "      <th>29079</th>\n",
              "      <td>29079</td>\n",
              "      <td>Fire Tablet with Alexa, 7\" Display, 16 GB, Mag...</td>\n",
              "      <td>Amazon</td>\n",
              "      <td>Tablets,Fire Tablets,Electronics,iPad &amp; Tablet...</td>\n",
              "      <td>Amazon</td>\n",
              "      <td>False</td>\n",
              "      <td>1.0</td>\n",
              "      <td>1.0</td>\n",
              "      <td>Very cheap and was not impressed at all never ...</td>\n",
              "      <td>Not good</td>\n",
              "      <td>Negative</td>\n",
              "      <td>very cheap and was not impressed at all never ...</td>\n",
              "    </tr>\n",
              "    <tr>\n",
              "      <th>29080</th>\n",
              "      <td>29080</td>\n",
              "      <td>Fire Tablet with Alexa, 7\" Display, 16 GB, Mag...</td>\n",
              "      <td>Amazon</td>\n",
              "      <td>Tablets,Fire Tablets,Electronics,iPad &amp; Tablet...</td>\n",
              "      <td>Amazon</td>\n",
              "      <td>False</td>\n",
              "      <td>2.0</td>\n",
              "      <td>2.0</td>\n",
              "      <td>Hard to use, Lots of ads, and Randomly closes ...</td>\n",
              "      <td>Not a huge fan</td>\n",
              "      <td>Negative</td>\n",
              "      <td>hard to use lots of ads and randomly closes apps</td>\n",
              "    </tr>\n",
              "    <tr>\n",
              "      <th>29081</th>\n",
              "      <td>29081</td>\n",
              "      <td>Fire Tablet with Alexa, 7\" Display, 16 GB, Mag...</td>\n",
              "      <td>Amazon</td>\n",
              "      <td>Tablets,Fire Tablets,Electronics,iPad &amp; Tablet...</td>\n",
              "      <td>Amazon</td>\n",
              "      <td>True</td>\n",
              "      <td>3.0</td>\n",
              "      <td>3.0</td>\n",
              "      <td>I wish it has some more of the apps from the p...</td>\n",
              "      <td>Fits perfectly in my hand</td>\n",
              "      <td>Negative</td>\n",
              "      <td>i wish it has some more of the apps from the p...</td>\n",
              "    </tr>\n",
              "  </tbody>\n",
              "</table>\n",
              "<p>29082 rows × 12 columns</p>\n",
              "</div>\n",
              "      <button class=\"colab-df-convert\" onclick=\"convertToInteractive('df-151f023b-5193-484c-8b19-8436eb1dea79')\"\n",
              "              title=\"Convert this dataframe to an interactive table.\"\n",
              "              style=\"display:none;\">\n",
              "        \n",
              "  <svg xmlns=\"http://www.w3.org/2000/svg\" height=\"24px\"viewBox=\"0 0 24 24\"\n",
              "       width=\"24px\">\n",
              "    <path d=\"M0 0h24v24H0V0z\" fill=\"none\"/>\n",
              "    <path d=\"M18.56 5.44l.94 2.06.94-2.06 2.06-.94-2.06-.94-.94-2.06-.94 2.06-2.06.94zm-11 1L8.5 8.5l.94-2.06 2.06-.94-2.06-.94L8.5 2.5l-.94 2.06-2.06.94zm10 10l.94 2.06.94-2.06 2.06-.94-2.06-.94-.94-2.06-.94 2.06-2.06.94z\"/><path d=\"M17.41 7.96l-1.37-1.37c-.4-.4-.92-.59-1.43-.59-.52 0-1.04.2-1.43.59L10.3 9.45l-7.72 7.72c-.78.78-.78 2.05 0 2.83L4 21.41c.39.39.9.59 1.41.59.51 0 1.02-.2 1.41-.59l7.78-7.78 2.81-2.81c.8-.78.8-2.07 0-2.86zM5.41 20L4 18.59l7.72-7.72 1.47 1.35L5.41 20z\"/>\n",
              "  </svg>\n",
              "      </button>\n",
              "      \n",
              "  <style>\n",
              "    .colab-df-container {\n",
              "      display:flex;\n",
              "      flex-wrap:wrap;\n",
              "      gap: 12px;\n",
              "    }\n",
              "\n",
              "    .colab-df-convert {\n",
              "      background-color: #E8F0FE;\n",
              "      border: none;\n",
              "      border-radius: 50%;\n",
              "      cursor: pointer;\n",
              "      display: none;\n",
              "      fill: #1967D2;\n",
              "      height: 32px;\n",
              "      padding: 0 0 0 0;\n",
              "      width: 32px;\n",
              "    }\n",
              "\n",
              "    .colab-df-convert:hover {\n",
              "      background-color: #E2EBFA;\n",
              "      box-shadow: 0px 1px 2px rgba(60, 64, 67, 0.3), 0px 1px 3px 1px rgba(60, 64, 67, 0.15);\n",
              "      fill: #174EA6;\n",
              "    }\n",
              "\n",
              "    [theme=dark] .colab-df-convert {\n",
              "      background-color: #3B4455;\n",
              "      fill: #D2E3FC;\n",
              "    }\n",
              "\n",
              "    [theme=dark] .colab-df-convert:hover {\n",
              "      background-color: #434B5C;\n",
              "      box-shadow: 0px 1px 3px 1px rgba(0, 0, 0, 0.15);\n",
              "      filter: drop-shadow(0px 1px 2px rgba(0, 0, 0, 0.3));\n",
              "      fill: #FFFFFF;\n",
              "    }\n",
              "  </style>\n",
              "\n",
              "      <script>\n",
              "        const buttonEl =\n",
              "          document.querySelector('#df-151f023b-5193-484c-8b19-8436eb1dea79 button.colab-df-convert');\n",
              "        buttonEl.style.display =\n",
              "          google.colab.kernel.accessAllowed ? 'block' : 'none';\n",
              "\n",
              "        async function convertToInteractive(key) {\n",
              "          const element = document.querySelector('#df-151f023b-5193-484c-8b19-8436eb1dea79');\n",
              "          const dataTable =\n",
              "            await google.colab.kernel.invokeFunction('convertToInteractive',\n",
              "                                                     [key], {});\n",
              "          if (!dataTable) return;\n",
              "\n",
              "          const docLinkHtml = 'Like what you see? Visit the ' +\n",
              "            '<a target=\"_blank\" href=https://colab.research.google.com/notebooks/data_table.ipynb>data table notebook</a>'\n",
              "            + ' to learn more about interactive tables.';\n",
              "          element.innerHTML = '';\n",
              "          dataTable['output_type'] = 'display_data';\n",
              "          await google.colab.output.renderOutput(dataTable, element);\n",
              "          const docLink = document.createElement('div');\n",
              "          docLink.innerHTML = docLinkHtml;\n",
              "          element.appendChild(docLink);\n",
              "        }\n",
              "      </script>\n",
              "    </div>\n",
              "  </div>\n",
              "  "
            ]
          },
          "metadata": {},
          "execution_count": 26
        }
      ]
    },
    {
      "cell_type": "markdown",
      "source": [
        "**Dealing with the imbalance**"
      ],
      "metadata": {
        "id": "VnsU_COFPub6"
      }
    },
    {
      "cell_type": "code",
      "source": [
        "from sklearn.model_selection import train_test_split\n",
        "X_train, X_test, Y_train, Y_test = train_test_split(data['reviews.clean'], data['sentiment'], test_size=0.25, random_state=42)\n",
        "print(\"Train: \", X_train.shape, Y_train.shape, \"Test: \", X_test.shape,Y_test.shape)"
      ],
      "metadata": {
        "colab": {
          "base_uri": "https://localhost:8080/"
        },
        "id": "qHD-PMEoOtS5",
        "outputId": "58bf3321-48de-4d5a-caf3-4c54fe973d6b"
      },
      "execution_count": 35,
      "outputs": [
        {
          "output_type": "stream",
          "name": "stdout",
          "text": [
            "Train:  (21811,) (21811,) Test:  (7271,) (7271,)\n"
          ]
        }
      ]
    },
    {
      "cell_type": "code",
      "source": [
        "# undersample majority class\n",
        "from imblearn.under_sampling import RandomUnderSampler\n",
        "rus = RandomUnderSampler(sampling_strategy='majority', random_state=42)\n",
        "x_res, y_res = rus.fit_resample(X_train.values.reshape(-1,1), Y_train)"
      ],
      "metadata": {
        "id": "8qVLh6xG0zjE"
      },
      "execution_count": 36,
      "outputs": []
    },
    {
      "cell_type": "code",
      "source": [
        "y_res.value_counts()"
      ],
      "metadata": {
        "colab": {
          "base_uri": "https://localhost:8080/"
        },
        "id": "SInCxJQC1bJM",
        "outputId": "3d8b7496-c60c-4cf8-da2b-6f958f6acaaa"
      },
      "execution_count": 37,
      "outputs": [
        {
          "output_type": "execute_result",
          "data": {
            "text/plain": [
              "Negative    4011\n",
              "Positive    4011\n",
              "Name: sentiment, dtype: int64"
            ]
          },
          "metadata": {},
          "execution_count": 37
        }
      ]
    },
    {
      "cell_type": "markdown",
      "source": [
        "**Feature Extractions using TF-IDF** "
      ],
      "metadata": {
        "id": "xOWnhTzyU6CB"
      }
    },
    {
      "cell_type": "code",
      "source": [
        "from nltk.corpus import stopwords\n",
        "nltk.download('stopwords')\n",
        "sw = set(stopwords.words('english'))\n",
        "sw.remove('not')"
      ],
      "metadata": {
        "colab": {
          "base_uri": "https://localhost:8080/"
        },
        "id": "xtblYO37kBfB",
        "outputId": "bcf361b3-abe8-48e9-939b-7cabfd7c3cad"
      },
      "execution_count": 38,
      "outputs": [
        {
          "output_type": "stream",
          "name": "stderr",
          "text": [
            "[nltk_data] Downloading package stopwords to /root/nltk_data...\n",
            "[nltk_data]   Unzipping corpora/stopwords.zip.\n"
          ]
        }
      ]
    },
    {
      "cell_type": "code",
      "source": [
        "from sklearn.feature_extraction.text import TfidfVectorizer\n",
        "vectorizer = TfidfVectorizer(min_df=2, stop_words=sw, ngram_range=(1,2))\n",
        "x_train_vect = vectorizer.fit_transform(x_res.flatten())\n",
        "x_test_vect = vectorizer.transform(X_test)"
      ],
      "metadata": {
        "id": "PeGaMaxX1jgg"
      },
      "execution_count": 39,
      "outputs": []
    },
    {
      "cell_type": "markdown",
      "source": [
        "**Classification**"
      ],
      "metadata": {
        "id": "YXWrNqmajTeo"
      }
    },
    {
      "cell_type": "code",
      "source": [
        "list(X_test)[0]"
      ],
      "metadata": {
        "colab": {
          "base_uri": "https://localhost:8080/",
          "height": 35
        },
        "id": "JONx8WuZjZP6",
        "outputId": "5ad9aee5-6c52-4970-f76b-08065d2e7392"
      },
      "execution_count": 40,
      "outputs": [
        {
          "output_type": "execute_result",
          "data": {
            "text/plain": [
              "'great for streaming movies and amazon easy set up would defiantly recommend this product'"
            ],
            "application/vnd.google.colaboratory.intrinsic+json": {
              "type": "string"
            }
          },
          "metadata": {},
          "execution_count": 40
        }
      ]
    },
    {
      "cell_type": "markdown",
      "source": [
        "\n",
        "Linear SVM"
      ],
      "metadata": {
        "id": "a3NXrDzQfUtl"
      }
    },
    {
      "cell_type": "code",
      "source": [
        "from sklearn import svm\n",
        "clf_svm = svm.SVC(kernel='linear')\n",
        "clf_svm.fit(x_train_vect, y_res)\n",
        "clf_svm.predict(x_test_vect[0])"
      ],
      "metadata": {
        "colab": {
          "base_uri": "https://localhost:8080/"
        },
        "id": "b3_pi3r-1t5u",
        "outputId": "74b3c8f2-220c-4ca6-d5a3-14168441515e"
      },
      "execution_count": 41,
      "outputs": [
        {
          "output_type": "execute_result",
          "data": {
            "text/plain": [
              "array(['Positive'], dtype=object)"
            ]
          },
          "metadata": {},
          "execution_count": 41
        }
      ]
    },
    {
      "cell_type": "markdown",
      "source": [
        "Naive Bayes"
      ],
      "metadata": {
        "id": "8_oBtyX0hRC9"
      }
    },
    {
      "cell_type": "code",
      "source": [
        "from sklearn.naive_bayes import GaussianNB\n",
        "clf_gnb = GaussianNB()\n",
        "clf_gnb.fit(x_train_vect.toarray(), y_res)\n",
        "clf_gnb.predict(x_test_vect[0].toarray())"
      ],
      "metadata": {
        "colab": {
          "base_uri": "https://localhost:8080/"
        },
        "id": "-FYzSMA8WyBj",
        "outputId": "a0b3b380-00c4-4311-baf0-576676138dcd"
      },
      "execution_count": 42,
      "outputs": [
        {
          "output_type": "execute_result",
          "data": {
            "text/plain": [
              "array(['Positive'], dtype='<U8')"
            ]
          },
          "metadata": {},
          "execution_count": 42
        }
      ]
    },
    {
      "cell_type": "markdown",
      "source": [
        "Logistic Regression"
      ],
      "metadata": {
        "id": "QP6cSg9jXI9t"
      }
    },
    {
      "cell_type": "code",
      "source": [
        "from sklearn.linear_model import LogisticRegression\n",
        "clf_log = LogisticRegression()\n",
        "clf_log.fit(x_train_vect, y_res)\n",
        "clf_log.predict(x_test_vect[0])"
      ],
      "metadata": {
        "colab": {
          "base_uri": "https://localhost:8080/"
        },
        "id": "C0dv0c8CXHVj",
        "outputId": "73f1c466-7c68-46ba-d1b4-e0824abaa9a5"
      },
      "execution_count": 43,
      "outputs": [
        {
          "output_type": "execute_result",
          "data": {
            "text/plain": [
              "array(['Positive'], dtype=object)"
            ]
          },
          "metadata": {},
          "execution_count": 43
        }
      ]
    },
    {
      "cell_type": "markdown",
      "source": [
        "Desicion Tree"
      ],
      "metadata": {
        "id": "EBL9DvWVktzx"
      }
    },
    {
      "cell_type": "code",
      "source": [
        "from sklearn.tree import DecisionTreeClassifier\n",
        "clf_dec = DecisionTreeClassifier()\n",
        "clf_dec.fit(x_train_vect, y_res)\n",
        "clf_dec.predict(x_test_vect[0])"
      ],
      "metadata": {
        "colab": {
          "base_uri": "https://localhost:8080/"
        },
        "id": "NqXTGf5OcLUD",
        "outputId": "9cf185c3-ce1d-4c63-af5c-c5d8bb6a5ac5"
      },
      "execution_count": 44,
      "outputs": [
        {
          "output_type": "execute_result",
          "data": {
            "text/plain": [
              "array(['Positive'], dtype=object)"
            ]
          },
          "metadata": {},
          "execution_count": 44
        }
      ]
    },
    {
      "cell_type": "markdown",
      "source": [
        "**Evaluating the Models**"
      ],
      "metadata": {
        "id": "H6W6h3ZgwQg7"
      }
    },
    {
      "cell_type": "code",
      "source": [
        "svm_score = clf_svm.score(x_test_vect, Y_test)\n",
        "gnb_score = clf_gnb.score(x_test_vect.toarray(), Y_test)\n",
        "log_score = clf_log.score(x_test_vect, Y_test)\n",
        "dec_score = clf_dec.score(x_test_vect, Y_test)\n",
        "print(f'Linear SVM: {svm_score}')\n",
        "print(f'Guassian NB: {gnb_score}')\n",
        "print(f'Logistic Regression: {log_score}')\n",
        "print(f'Decision Tree: {dec_score}')"
      ],
      "metadata": {
        "colab": {
          "base_uri": "https://localhost:8080/"
        },
        "id": "XqNgqoCd16y5",
        "outputId": "40c0c86e-c3ee-4218-fd00-c25e8aedcd58"
      },
      "execution_count": 45,
      "outputs": [
        {
          "output_type": "stream",
          "name": "stdout",
          "text": [
            "Linear SVM: 0.9141796176591941\n",
            "Guassian NB: 0.8403245770870582\n",
            "Logistic Regression: 0.9053775271627011\n",
            "Decision Tree: 0.8313849539265575\n"
          ]
        }
      ]
    },
    {
      "cell_type": "code",
      "source": [
        "from sklearn.metrics import f1_score\n",
        "svm_f1 = f1_score(Y_test, clf_svm.predict(x_test_vect), average=None)\n",
        "gnb_f1 = f1_score(Y_test, clf_gnb.predict(x_test_vect.toarray()), average=None)\n",
        "log_f1 = f1_score(Y_test, clf_log.predict(x_test_vect), average=None)\n",
        "dec_f1 = f1_score(Y_test, clf_dec.predict(x_test_vect), average=None)\n",
        "print(\"f1-score for the models:\")\n",
        "print(f'Linear SVM: {svm_f1}')\n",
        "print(f'Guassian NB: {gnb_f1}')\n",
        "print(f'Logistic Regression: {log_f1}')\n",
        "print(f'Decision Tree: {dec_f1}')"
      ],
      "metadata": {
        "colab": {
          "base_uri": "https://localhost:8080/"
        },
        "id": "L6jo07HJ1-44",
        "outputId": "3ac4092c-9aab-4a67-e951-aa39936e7c61"
      },
      "execution_count": 46,
      "outputs": [
        {
          "output_type": "stream",
          "name": "stdout",
          "text": [
            "f1-score for the models:\n",
            "Linear SVM: [0.78746594 0.94623471]\n",
            "Guassian NB: [0.62919195 0.89825607]\n",
            "Logistic Regression: [0.77066667 0.94039161]\n",
            "Decision Tree: [0.63962375 0.88994614]\n"
          ]
        }
      ]
    },
    {
      "cell_type": "markdown",
      "source": [
        "**Testing the Models**"
      ],
      "metadata": {
        "id": "Tbe0al_yo72g"
      }
    },
    {
      "cell_type": "code",
      "source": [
        "def model_testing(model, test_set):\n",
        "  test_set_vect = vectorizer.transform(test_set)\n",
        "  if model == clf_gnb:\n",
        "    test_set_vect = test_set_vect.toarray()\n",
        "  return model.predict(test_set_vect)\n",
        "\n",
        "def match(results, model):\n",
        "  sum=0\n",
        "  for i in range(len(results)):\n",
        "    if results[i] == model[i]:\n",
        "      sum+=1\n",
        "  return sum"
      ],
      "metadata": {
        "id": "2Wdm6hk7sGDs"
      },
      "execution_count": 48,
      "outputs": []
    },
    {
      "cell_type": "code",
      "source": [
        "test_set = ['The product was good and easy to  use', 'battery life is awful', 'product is user friendly', 'terrible tablet', 'product is not good']\n",
        "results = ['Positive', 'Negative', 'Positive', 'Negative', 'Negative']"
      ],
      "metadata": {
        "id": "75mWnQ9DtHV5"
      },
      "execution_count": 49,
      "outputs": []
    },
    {
      "cell_type": "code",
      "source": [
        "print(f'Predicting results for test_set:\\nExpected results: {results}\\n')\n",
        "print(f'Linear SVM: {model_testing(clf_svm, test_set)}\\tMatch: {match(results, model_testing(clf_svm, test_set))}/{len(results)}')\n",
        "print(f'Gaussian NB: {model_testing(clf_gnb, test_set)}\\tMatch: {match(results, model_testing(clf_gnb, test_set))}/{len(results)}')\n",
        "print(f'Logistic Regression: {model_testing(clf_log, test_set)}\\tMatch: {match(results, model_testing(clf_log, test_set))}/{len(results)}')\n",
        "print(f'Desicion Tree: {model_testing(clf_dec, test_set)}\\tMatch: {match(results, model_testing(clf_dec, test_set))}/{len(results)}')"
      ],
      "metadata": {
        "colab": {
          "base_uri": "https://localhost:8080/"
        },
        "id": "8HSnYSiupAQq",
        "outputId": "ab3f1f1f-8219-416e-d6d0-d963fe1b12a8"
      },
      "execution_count": 51,
      "outputs": [
        {
          "output_type": "stream",
          "name": "stdout",
          "text": [
            "Predicting results for test_set:\n",
            "Expected results: ['Positive', 'Negative', 'Positive', 'Negative', 'Negative']\n",
            "\n",
            "Linear SVM: ['Positive' 'Negative' 'Positive' 'Negative' 'Negative']\tMatch: 5/5\n",
            "Gaussian NB: ['Positive' 'Positive' 'Positive' 'Negative' 'Positive']\tMatch: 3/5\n",
            "Logistic Regression: ['Positive' 'Negative' 'Positive' 'Negative' 'Negative']\tMatch: 5/5\n",
            "Desicion Tree: ['Positive' 'Negative' 'Positive' 'Negative' 'Negative']\tMatch: 5/5\n"
          ]
        }
      ]
    },
    {
      "cell_type": "markdown",
      "source": [
        "As expected, the Guassian NB classifier is the worst performing model. I will fine tune the other 3 models to achieve better accuracy."
      ],
      "metadata": {
        "id": "r13549Sstq4O"
      }
    },
    {
      "cell_type": "markdown",
      "source": [
        "**Fine Tuning with Grid Search**"
      ],
      "metadata": {
        "id": "deLvfW4dpYKv"
      }
    },
    {
      "cell_type": "code",
      "source": [
        "from sklearn.model_selection import GridSearchCV\n",
        "parameters = {'kernel': ('linear', 'rbf'), 'C': (1, 4, 8, 16, 32)}\n",
        "svc = svm.SVC()\n",
        "clf = GridSearchCV(svc, parameters, cv=5)\n",
        "clf.fit(x_train_vect, y_res)\n",
        "print('Best parameters for Linear SVM:')\n",
        "print(clf.best_params_)"
      ],
      "metadata": {
        "colab": {
          "base_uri": "https://localhost:8080/"
        },
        "id": "1BnirwRVpbe0",
        "outputId": "6c42067e-317b-41b3-8e34-a227a88cd87e"
      },
      "execution_count": 52,
      "outputs": [
        {
          "output_type": "stream",
          "name": "stdout",
          "text": [
            "Best parameters for Linear SVM:\n",
            "{'C': 8, 'kernel': 'rbf'}\n"
          ]
        }
      ]
    },
    {
      "cell_type": "code",
      "source": [
        "clf_tuned_svm = svm.SVC(kernel='rbf', C=8)\n",
        "clf_tuned_svm.fit(x_train_vect, y_res)\n",
        "tuned_svm_score = clf_tuned_svm.score(x_test_vect, Y_test)\n",
        "tuned_svm_f1 = f1_score(Y_test, clf_tuned_svm.predict(x_test_vect), average=None)\n",
        "print(f'Score for tuned Linear SVM: {tuned_svm_score}')\n",
        "print(f'f1-score for tuned Linear SVM: {tuned_svm_f1}')"
      ],
      "metadata": {
        "colab": {
          "base_uri": "https://localhost:8080/"
        },
        "id": "BIIQ01cpxzgH",
        "outputId": "470ce964-ad09-4bd9-d501-f17da2fec7f7"
      },
      "execution_count": 53,
      "outputs": [
        {
          "output_type": "stream",
          "name": "stdout",
          "text": [
            "Score for tuned Linear SVM: 0.9214688488516023\n",
            "f1-score for tuned Linear SVM: [0.80235376 0.95099974]\n"
          ]
        }
      ]
    },
    {
      "cell_type": "code",
      "source": [
        "parameters = {'penalty': ('l1', 'l2'), 'solver' : ('newton-cg', 'lbfgs', 'liblinear'), 'C': (1, 4, 8, 16, 32), }\n",
        "logreg = LogisticRegression()\n",
        "clf2 = GridSearchCV(logreg, parameters, cv=5)\n",
        "clf2.fit(x_train_vect, y_res)\n",
        "print('Best parameters for Logistic Regression:')\n",
        "print(clf2.best_params_)"
      ],
      "metadata": {
        "colab": {
          "base_uri": "https://localhost:8080/"
        },
        "id": "jzGqKtoCuCQU",
        "outputId": "1f4f8460-a37b-412c-b5a9-f71658acd623"
      },
      "execution_count": 56,
      "outputs": [
        {
          "output_type": "stream",
          "name": "stderr",
          "text": [
            "/usr/local/lib/python3.7/dist-packages/sklearn/linear_model/_logistic.py:818: ConvergenceWarning: lbfgs failed to converge (status=1):\n",
            "STOP: TOTAL NO. of ITERATIONS REACHED LIMIT.\n",
            "\n",
            "Increase the number of iterations (max_iter) or scale the data as shown in:\n",
            "    https://scikit-learn.org/stable/modules/preprocessing.html\n",
            "Please also refer to the documentation for alternative solver options:\n",
            "    https://scikit-learn.org/stable/modules/linear_model.html#logistic-regression\n",
            "  extra_warning_msg=_LOGISTIC_SOLVER_CONVERGENCE_MSG,\n",
            "/usr/local/lib/python3.7/dist-packages/sklearn/linear_model/_logistic.py:818: ConvergenceWarning: lbfgs failed to converge (status=1):\n",
            "STOP: TOTAL NO. of ITERATIONS REACHED LIMIT.\n",
            "\n",
            "Increase the number of iterations (max_iter) or scale the data as shown in:\n",
            "    https://scikit-learn.org/stable/modules/preprocessing.html\n",
            "Please also refer to the documentation for alternative solver options:\n",
            "    https://scikit-learn.org/stable/modules/linear_model.html#logistic-regression\n",
            "  extra_warning_msg=_LOGISTIC_SOLVER_CONVERGENCE_MSG,\n",
            "/usr/local/lib/python3.7/dist-packages/sklearn/model_selection/_validation.py:372: FitFailedWarning: \n",
            "50 fits failed out of a total of 150.\n",
            "The score on these train-test partitions for these parameters will be set to nan.\n",
            "If these failures are not expected, you can try to debug them by setting error_score='raise'.\n",
            "\n",
            "Below are more details about the failures:\n",
            "--------------------------------------------------------------------------------\n",
            "25 fits failed with the following error:\n",
            "Traceback (most recent call last):\n",
            "  File \"/usr/local/lib/python3.7/dist-packages/sklearn/model_selection/_validation.py\", line 680, in _fit_and_score\n",
            "    estimator.fit(X_train, y_train, **fit_params)\n",
            "  File \"/usr/local/lib/python3.7/dist-packages/sklearn/linear_model/_logistic.py\", line 1461, in fit\n",
            "    solver = _check_solver(self.solver, self.penalty, self.dual)\n",
            "  File \"/usr/local/lib/python3.7/dist-packages/sklearn/linear_model/_logistic.py\", line 449, in _check_solver\n",
            "    % (solver, penalty)\n",
            "ValueError: Solver newton-cg supports only 'l2' or 'none' penalties, got l1 penalty.\n",
            "\n",
            "--------------------------------------------------------------------------------\n",
            "25 fits failed with the following error:\n",
            "Traceback (most recent call last):\n",
            "  File \"/usr/local/lib/python3.7/dist-packages/sklearn/model_selection/_validation.py\", line 680, in _fit_and_score\n",
            "    estimator.fit(X_train, y_train, **fit_params)\n",
            "  File \"/usr/local/lib/python3.7/dist-packages/sklearn/linear_model/_logistic.py\", line 1461, in fit\n",
            "    solver = _check_solver(self.solver, self.penalty, self.dual)\n",
            "  File \"/usr/local/lib/python3.7/dist-packages/sklearn/linear_model/_logistic.py\", line 449, in _check_solver\n",
            "    % (solver, penalty)\n",
            "ValueError: Solver lbfgs supports only 'l2' or 'none' penalties, got l1 penalty.\n",
            "\n",
            "  warnings.warn(some_fits_failed_message, FitFailedWarning)\n",
            "/usr/local/lib/python3.7/dist-packages/sklearn/model_selection/_search.py:972: UserWarning: One or more of the test scores are non-finite: [       nan        nan 0.85614569 0.8914237  0.8914237  0.89154839\n",
            "        nan        nan 0.88382012 0.90002579 0.90002579 0.90002579\n",
            "        nan        nan 0.88581436 0.89902805 0.89902805 0.89902805\n",
            "        nan        nan 0.88307246 0.89902899 0.89902899 0.89902899\n",
            "        nan        nan 0.88232511 0.8979071  0.8979071  0.8979071 ]\n",
            "  category=UserWarning,\n"
          ]
        },
        {
          "output_type": "stream",
          "name": "stdout",
          "text": [
            "Best parameters for Logistic Regression:\n",
            "{'C': 4, 'penalty': 'l2', 'solver': 'newton-cg'}\n"
          ]
        }
      ]
    },
    {
      "cell_type": "code",
      "source": [
        "clf_tuned_log = LogisticRegression(C=4, penalty='l2', solver='newton-cg')\n",
        "clf_tuned_log.fit(x_train_vect, y_res)\n",
        "tuned_log_score = clf_tuned_log.score(x_test_vect, Y_test)\n",
        "tuned_log_f1 = f1_score(Y_test, clf_tuned_log.predict(x_test_vect), average=None)\n",
        "print(f'Score for tuned Logistic Regression: {tuned_log_score}')\n",
        "print(f'f1-score for tuned Logistic Regression: {tuned_log_f1}')"
      ],
      "metadata": {
        "colab": {
          "base_uri": "https://localhost:8080/"
        },
        "id": "G9PtCptNwBws",
        "outputId": "86a4712a-8590-49e0-818d-5868f2ebf37d"
      },
      "execution_count": 57,
      "outputs": [
        {
          "output_type": "stream",
          "name": "stdout",
          "text": [
            "Score for tuned Logistic Regression: 0.9122541603630863\n",
            "f1-score for tuned Logistic Regression: [0.78518519 0.94486692]\n"
          ]
        }
      ]
    },
    {
      "cell_type": "code",
      "source": [
        "parameters = {'criterion': ('gini', 'entropy'), 'splitter' : ('best', 'random'), 'max_depth': (128, 256, 512, 1024)}\n",
        "dectree = DecisionTreeClassifier()\n",
        "clf3 = GridSearchCV(dectree, parameters, cv=5)\n",
        "clf3.fit(x_train_vect, y_res)\n",
        "print('Best parameters for Decision Tree:')\n",
        "print(clf3.best_params_)"
      ],
      "metadata": {
        "colab": {
          "base_uri": "https://localhost:8080/"
        },
        "id": "CERXryPfwhGh",
        "outputId": "b57cae34-9668-4a31-b288-ad2ce6845773"
      },
      "execution_count": 61,
      "outputs": [
        {
          "output_type": "stream",
          "name": "stdout",
          "text": [
            "Best parameters for Decision Tree:\n",
            "{'criterion': 'entropy', 'max_depth': 512, 'splitter': 'random'}\n"
          ]
        }
      ]
    },
    {
      "cell_type": "code",
      "source": [
        "clf_tuned_dec = DecisionTreeClassifier(criterion='entropy', splitter='random', max_depth=512)\n",
        "clf_tuned_dec.fit(x_train_vect, y_res)\n",
        "tuned_dec_score = clf_tuned_dec.score(x_test_vect, Y_test)\n",
        "tuned_dec_f1 = f1_score(Y_test, clf_tuned_dec.predict(x_test_vect), average=None)\n",
        "print(f'Score for tuned Decision Tree: {tuned_dec_score}')\n",
        "print(f'f1-score for tuned Decision Tree: {tuned_dec_f1}')"
      ],
      "metadata": {
        "colab": {
          "base_uri": "https://localhost:8080/"
        },
        "id": "ayedgkcX1UE1",
        "outputId": "4382e393-f97a-4e70-cf9d-4d4c228f48a2"
      },
      "execution_count": 62,
      "outputs": [
        {
          "output_type": "stream",
          "name": "stdout",
          "text": [
            "Score for tuned Decision Tree: 0.845963416311374\n",
            "f1-score for tuned Decision Tree: [0.65707287 0.900674  ]\n"
          ]
        }
      ]
    },
    {
      "cell_type": "markdown",
      "source": [
        "Summary of results"
      ],
      "metadata": {
        "id": "DZFFMcEY3-Lx"
      }
    },
    {
      "cell_type": "code",
      "source": [
        "print('\\t\\tLinear SVM\\t\\t\\tLogistic Regression\\t\\t\\tDecision Tree')\n",
        "print('-'*115)\n",
        "print(f'score\\t\\t{svm_score}\\t\\t{log_score}\\t\\t\\t{dec_score}')\n",
        "print('-'*115)\n",
        "print(f'f1\\t\\t{svm_f1}\\t\\t{log_f1}\\t\\t\\t{dec_f1}')\n",
        "print('-'*115)\n",
        "print(f'tuned score\\t{tuned_svm_score}\\t\\t{tuned_log_score}\\t\\t\\t{tuned_dec_score}')\n",
        "print('-'*115)\n",
        "print(f'tuned f1\\t{tuned_svm_f1}\\t\\t{tuned_log_f1}\\t\\t\\t{tuned_dec_f1}')"
      ],
      "metadata": {
        "colab": {
          "base_uri": "https://localhost:8080/"
        },
        "id": "Y9mLjAdZ7p-l",
        "outputId": "f059fa30-c9da-4cf9-a4e0-7bef04c2e1ca"
      },
      "execution_count": 79,
      "outputs": [
        {
          "output_type": "stream",
          "name": "stdout",
          "text": [
            "\t\tLinear SVM\t\t\tLogistic Regression\t\t\tDecision Tree\n",
            "-------------------------------------------------------------------------------------------------------------------\n",
            "score\t\t0.9141796176591941\t\t0.9053775271627011\t\t\t0.8313849539265575\n",
            "-------------------------------------------------------------------------------------------------------------------\n",
            "f1\t\t[0.78746594 0.94623471]\t\t[0.77066667 0.94039161]\t\t\t[0.63962375 0.88994614]\n",
            "-------------------------------------------------------------------------------------------------------------------\n",
            "tuned score\t0.9214688488516023\t\t0.9122541603630863\t\t\t0.845963416311374\n",
            "-------------------------------------------------------------------------------------------------------------------\n",
            "tuned f1\t[0.80235376 0.95099974]\t\t[0.78518519 0.94486692]\t\t\t[0.65707287 0.900674  ]\n"
          ]
        }
      ]
    },
    {
      "cell_type": "markdown",
      "source": [
        "There are slight improvements after tuning the parameters of the models. We can see that Linear SVM has achieved the highest accuracy"
      ],
      "metadata": {
        "id": "3o7571Jr9xyq"
      }
    },
    {
      "cell_type": "code",
      "source": [
        "from wordcloud import WordCloud\n",
        "def plt_wc(df):\n",
        "  words = ' '.join(wd for wd in df['reviews.clean'])\n",
        "  wordCloud = WordCloud(stopwords=sw, background_color='white', max_words=100, random_state=21, max_font_size=50).generate(words)\n",
        "\n",
        "  plt.figure(figsize = (10, 12), facecolor = None) \n",
        "  plt.imshow(wordCloud, interpolation='bilinear')\n",
        "  plt.axis('off')\n",
        "  plt.show()\n",
        "\n",
        "plt_wc(data)"
      ],
      "metadata": {
        "id": "pajy6sczEdE4",
        "colab": {
          "base_uri": "https://localhost:8080/",
          "height": 310
        },
        "outputId": "412cdcdc-ffd6-4eec-8a0a-128d0bfaeecd"
      },
      "execution_count": 85,
      "outputs": [
        {
          "output_type": "display_data",
          "data": {
            "text/plain": [
              "<Figure size 720x864 with 1 Axes>"
            ],
            "image/png": "[encoded data removed]"
          },
          "metadata": {
            "needs_background": "light"
          }
        }
      ]
    }
  ]
}